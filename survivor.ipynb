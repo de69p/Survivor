{
 "cells": [
  {
   "cell_type": "markdown",
   "metadata": {},
   "source": [
    "# DTSC-580: Data Manipulation\n",
    "## Assignment: Survivor\n",
    "\n",
    "### Name:\n",
    "\n",
    "## Overview\n",
    "\n",
    "In this assignment, you will test all the skills that you have learned during this course to manipulate the provided data to find the answers to questions about the TV show Survivor.  If you are not familiar with this show, start by watching this short clip that briefly explains it:  [Survivor Explained](https://www.youtube.com/watch?v=l1-hTpG_krk)\n",
    "\n",
    "Please note that your notebook should be named `survivor` when submitting to CodeGrade for the automatic grading to work properly.\n",
    "\n",
    "## Data\n",
    "\n",
    "The Survivor data is a R package from Daniel Oehm.  Daniel has made the data for this package available as an Excel file as explained in his article on [gradientdescending.com](http://gradientdescending.com/survivor-data-from-the-tv-series-in-r/).  Please make sure that you use the file from our Brightspace page though to make sure that your data will match what CodeGrade is expecting.  We have also updated some errors in the file, which is another reason that you must use the data given to you.\n",
    "\n",
    "You need to first read the article on the website linked above.  This will give you additional details about the data that will be important as you answer the questions below.\n",
    "\n",
    "Please note that there is a data dictionary in the file that explains the columns in the data.  You will also want to become familiar with the various spreadsheets and column names.  This will help you out tremendously in this assignment.\n",
    "\n",
    "Finally, here are a couple of things to know for those of you that have not seen the show:\n",
    "- Survivor is a reality TV show that first aired May 31, 2000 and is currently still on TV.\n",
    "- Contestants are broken up into two teams (usually) where they live in separate camps. \n",
    "- The teams compete in various challenges for rewards (food, supplies, brief experience trips, etc) and tribal immunity.  \n",
    "- The team that loses a challenge, and therefore doesn't get the tribal immunity, goes to tribal council where they have to vote one of their members out (this data is represented in the \"Vote History\" spreadsheet).\n",
    "- After there are a small number of contestants left, the tribes are merged into one tribe where each contestant competes for individual immunity.  The winner of the individual immunity cannot get voted out and is safe at the next tribal council.\n",
    "- The are also hidden immunity idols that are hidden around the campground.  If a contestant finds and plays their hidden immunity at the tribal council, then all votes against them do not count, and the player with the next highest number of votes goes home.\n",
    "- When the contestants get down to 2 or 3 people, a number of the last contestants, known as the jury, come back to vote for the person who they think should win the game.  The winner is the one who gets the most jury votes (this data is represented in the \"Jury Votes\" spreadsheet).  This person is known as the Sole Survivor.\n",
    "- Voting recap: \n",
    "    - Tribal Council votes (Vote History spreadsheet) are bad; contestants with the most votes get sent home\n",
    "    - Jury Votes (Jury Votes spreadsheet) are good; contestants with the most votes win the game and is the Sole Survivor\n",
    "\n",
    "## Note\n",
    "\n",
    "<u>Show Work</u>\n",
    "\n",
    "Remember that you must show your work.  Students submissions are spot checked manually to verify that they are not hard coding the answer from looking only in the file or in CodeGrade's expected output.  If this is seen, the student's answer will be manually marked wrong and their grade will be changed to reflect this.\n",
    "\n",
    "For example, if the question is who is the contestant who has received the most tribal votes to be voted out.  Select their record from the `castaway_details` DataFrame.  \n",
    "\n",
    "You would show your work and code similar to this:\n",
    "```\n",
    "### incorrect way ###\n",
    "Q1 = castaway_details[castaway_details['castaway_id'] ==  333]\n",
    "\n",
    "### correct way - showing your work ###\n",
    "# get index\n",
    "idx = vote_history.groupby('vote_id').size().sort_values(ascending=False).index[0]\n",
    "\n",
    "# select row based on index \n",
    "Q1 = castaway_details[castaway_details['castaway_id'] ==  idx]\n",
    "```\n",
    "\n",
    "<u>Use Copy</u>\n",
    "\n",
    "Don't change any of the original DataFrames unless specifically asked or CodeGrade will not work correctly for this assignment.  Make sure you use `copy()` if needed."
   ]
  },
  {
   "cell_type": "code",
   "execution_count": 1,
   "metadata": {
    "ExecuteTime": {
     "end_time": "2023-12-08T09:43:25.127280Z",
     "start_time": "2023-12-08T09:43:23.705935Z"
    }
   },
   "outputs": [],
   "source": [
    "# standard imports\n",
    "import pandas as pd\n",
    "import numpy as np\n",
    "\n",
    "# Do not change this option; This allows the CodeGrade auto grading to function correctly\n",
    "pd.set_option('display.max_columns', None)"
   ]
  },
  {
   "cell_type": "markdown",
   "metadata": {},
   "source": [
    "First, import the data from the `survivor.xlsx` file, calling the respective DataFrames the same as the sheet name but with lowercase and [snake case](https://en.wikipedia.org/wiki/Snake_case).  For example, the sheet called `Castaway Details` should be saved as a DataFrame called `castaway_details`.  Make sure that the data files are in the same folder as your notebook.\n",
    "\n",
    "Note:  You may or may not need to install [openpyxl](https://openpyxl.readthedocs.io/en/stable/) for the code below to work.  You can use: `$ pip install openpyxl`"
   ]
  },
  {
   "cell_type": "code",
   "execution_count": 2,
   "metadata": {
    "ExecuteTime": {
     "end_time": "2023-12-08T09:43:28.933591Z",
     "start_time": "2023-12-08T09:43:25.128420Z"
    }
   },
   "outputs": [],
   "source": [
    "# setup Filename and Object\n",
    "fileName = \"survivor.xlsx\"\n",
    "xls = pd.ExcelFile(fileName)\n",
    "\n",
    "# import individual sheets\n",
    "castaway_details = pd.read_excel(xls, 'Castaway Details')\n",
    "castaways = pd.read_excel(xls, 'Castaways')\n",
    "challenge_description = pd.read_excel(xls, 'Challenge Description')\n",
    "challenge_results = pd.read_excel(xls, 'Challenge Results')\n",
    "confessionals = pd.read_excel(xls, 'Confessionals')\n",
    "hidden_idols = pd.read_excel(xls, 'Hidden Idols')\n",
    "jury_votes = pd.read_excel(xls, 'Jury Votes')\n",
    "tribe_mapping = pd.read_excel(xls, 'Tribe Mapping')\n",
    "viewers = pd.read_excel(xls, 'Viewers')\n",
    "vote_history = pd.read_excel(xls, 'Vote History')\n",
    "season_summary = pd.read_excel(xls, 'Season Summary')\n",
    "season_palettes = pd.read_excel(xls, 'Season Palettes')\n",
    "tribe_colours = pd.read_excel(xls, 'Tribe Colours')"
   ]
  },
  {
   "cell_type": "markdown",
   "metadata": {},
   "source": [
    "**Exercise1:** Change every column name of every DataFrame to lowercase and snake case.  This is a standard first step for some programmers as lowercase makes it easier to write and snake case makes it easier to copy multiple-word column names.\n",
    "\n",
    "For example, `Castaway Id` should end up being `castaway_id`.  You should try doing this using a `for` loop instead of manually changing the names for each column.  It should take you no more than a few lines of code.  Use stackoverflow if you need help."
   ]
  },
  {
   "cell_type": "code",
   "execution_count": 3,
   "metadata": {
    "ExecuteTime": {
     "end_time": "2023-12-08T09:43:28.934919Z",
     "start_time": "2023-12-08T09:43:26.625311Z"
    }
   },
   "outputs": [
    {
     "data": {
      "text/plain": "   castaway_id          full_name short_name date_of_birth date_of_death  \\\n0            1  Sonja Christopher      Sonja    1937-01-28           NaT   \n1            2      B.B. Andersen       B.B.    1936-01-18    2013-10-29   \n2            3    Stacey Stillman     Stacey    1972-08-11           NaT   \n3            4        Ramona Gray     Ramona    1971-01-20           NaT   \n4            5          Dirk Been       Dirk    1976-06-15           NaT   \n\n   gender   race ethnicity             occupation personality_type  \n0  Female    NaN       NaN               Musician             ENFP  \n1    Male    NaN       NaN  Real Estate Developer             ESTJ  \n2  Female    NaN       NaN               Attorney             ENTJ  \n3  Female  Black       NaN     Biochemist/Chemist             ISTJ  \n4    Male    NaN       NaN           Dairy Farmer             ISFP  ",
      "text/html": "<div>\n<style scoped>\n    .dataframe tbody tr th:only-of-type {\n        vertical-align: middle;\n    }\n\n    .dataframe tbody tr th {\n        vertical-align: top;\n    }\n\n    .dataframe thead th {\n        text-align: right;\n    }\n</style>\n<table border=\"1\" class=\"dataframe\">\n  <thead>\n    <tr style=\"text-align: right;\">\n      <th></th>\n      <th>castaway_id</th>\n      <th>full_name</th>\n      <th>short_name</th>\n      <th>date_of_birth</th>\n      <th>date_of_death</th>\n      <th>gender</th>\n      <th>race</th>\n      <th>ethnicity</th>\n      <th>occupation</th>\n      <th>personality_type</th>\n    </tr>\n  </thead>\n  <tbody>\n    <tr>\n      <th>0</th>\n      <td>1</td>\n      <td>Sonja Christopher</td>\n      <td>Sonja</td>\n      <td>1937-01-28</td>\n      <td>NaT</td>\n      <td>Female</td>\n      <td>NaN</td>\n      <td>NaN</td>\n      <td>Musician</td>\n      <td>ENFP</td>\n    </tr>\n    <tr>\n      <th>1</th>\n      <td>2</td>\n      <td>B.B. Andersen</td>\n      <td>B.B.</td>\n      <td>1936-01-18</td>\n      <td>2013-10-29</td>\n      <td>Male</td>\n      <td>NaN</td>\n      <td>NaN</td>\n      <td>Real Estate Developer</td>\n      <td>ESTJ</td>\n    </tr>\n    <tr>\n      <th>2</th>\n      <td>3</td>\n      <td>Stacey Stillman</td>\n      <td>Stacey</td>\n      <td>1972-08-11</td>\n      <td>NaT</td>\n      <td>Female</td>\n      <td>NaN</td>\n      <td>NaN</td>\n      <td>Attorney</td>\n      <td>ENTJ</td>\n    </tr>\n    <tr>\n      <th>3</th>\n      <td>4</td>\n      <td>Ramona Gray</td>\n      <td>Ramona</td>\n      <td>1971-01-20</td>\n      <td>NaT</td>\n      <td>Female</td>\n      <td>Black</td>\n      <td>NaN</td>\n      <td>Biochemist/Chemist</td>\n      <td>ISTJ</td>\n    </tr>\n    <tr>\n      <th>4</th>\n      <td>5</td>\n      <td>Dirk Been</td>\n      <td>Dirk</td>\n      <td>1976-06-15</td>\n      <td>NaT</td>\n      <td>Male</td>\n      <td>NaN</td>\n      <td>NaN</td>\n      <td>Dairy Farmer</td>\n      <td>ISFP</td>\n    </tr>\n  </tbody>\n</table>\n</div>"
     },
     "execution_count": 3,
     "metadata": {},
     "output_type": "execute_result"
    }
   ],
   "source": [
    "# Function to convert column names to lowercase and snake case\n",
    "def to_snake_case(name):\n",
    "    return name.strip().replace(' ', '_').lower()\n",
    "\n",
    "# List of all DataFrames\n",
    "dataframes = [castaway_details, castaways, challenge_description, challenge_results,\n",
    "              confessionals, hidden_idols, jury_votes, tribe_mapping, viewers,\n",
    "              vote_history, season_summary, season_palettes, tribe_colours]\n",
    "\n",
    "# Applying the function to all DataFrames\n",
    "for df in dataframes:\n",
    "    df.columns = [to_snake_case(col) for col in df.columns]\n",
    "\n",
    "# Verifying the changes for a few DataFrames\n",
    "castaway_details.head()"
   ]
  },
  {
   "cell_type": "markdown",
   "metadata": {},
   "source": [
    "**Q2:** What contestant was the oldest at the time of their season?  We want to look at their age at the time of the season and NOT their current age.  Select their row from the `castaway_details` DataFrame and save this as `Q2`.  This should return a DataFrame and the index and missing values should be left as is."
   ]
  },
  {
   "cell_type": "code",
   "execution_count": 4,
   "metadata": {
    "ExecuteTime": {
     "end_time": "2023-12-08T09:43:28.935246Z",
     "start_time": "2023-12-08T09:43:26.634317Z"
    }
   },
   "outputs": [
    {
     "data": {
      "text/plain": "    castaway_id    full_name short_name date_of_birth date_of_death gender  \\\n13           14  Rudy Boesch       Rudy    1928-01-20    2019-11-01   Male   \n\n   race ethnicity         occupation personality_type  \n13  NaN       NaN  Retired Navy SEAL             ISTJ  ",
      "text/html": "<div>\n<style scoped>\n    .dataframe tbody tr th:only-of-type {\n        vertical-align: middle;\n    }\n\n    .dataframe tbody tr th {\n        vertical-align: top;\n    }\n\n    .dataframe thead th {\n        text-align: right;\n    }\n</style>\n<table border=\"1\" class=\"dataframe\">\n  <thead>\n    <tr style=\"text-align: right;\">\n      <th></th>\n      <th>castaway_id</th>\n      <th>full_name</th>\n      <th>short_name</th>\n      <th>date_of_birth</th>\n      <th>date_of_death</th>\n      <th>gender</th>\n      <th>race</th>\n      <th>ethnicity</th>\n      <th>occupation</th>\n      <th>personality_type</th>\n    </tr>\n  </thead>\n  <tbody>\n    <tr>\n      <th>13</th>\n      <td>14</td>\n      <td>Rudy Boesch</td>\n      <td>Rudy</td>\n      <td>1928-01-20</td>\n      <td>2019-11-01</td>\n      <td>Male</td>\n      <td>NaN</td>\n      <td>NaN</td>\n      <td>Retired Navy SEAL</td>\n      <td>ISTJ</td>\n    </tr>\n  </tbody>\n</table>\n</div>"
     },
     "execution_count": 4,
     "metadata": {},
     "output_type": "execute_result"
    }
   ],
   "source": [
    "# Merge castaway details with seasons to get DOB and season premiere dates\n",
    "merged_data = (castaways\n",
    "               .merge(castaway_details[['castaway_id', 'date_of_birth']], on='castaway_id', how='left')\n",
    "               .merge(season_summary[['season', 'premiered']], on='season', how='left'))\n",
    "\n",
    "# Convert 'date_of_birth' and 'premiered' to datetime\n",
    "merged_data['date_of_birth'] = pd.to_datetime(merged_data['date_of_birth'])\n",
    "merged_data['premiered'] = pd.to_datetime(merged_data['premiered'])\n",
    "\n",
    "# Calculate age during season\n",
    "merged_data['age_at_season'] = (merged_data['premiered'] - merged_data['date_of_birth']).dt.days // 365\n",
    "\n",
    "# Identify and retrieve details of the oldest contestant\n",
    "oldest_id = merged_data.loc[merged_data['age_at_season'].idxmax(), 'castaway_id']\n",
    "Q2 = castaway_details[castaway_details['castaway_id'] == oldest_id]\n",
    "\n",
    "# Display the result\n",
    "Q2"
   ]
  },
  {
   "cell_type": "code",
   "execution_count": 24,
   "outputs": [
    {
     "data": {
      "text/plain": "          season_name  season          full_name  castaway_id castaway  age  \\\n0        Survivor: 41      41    Erika Casupanan          594    Erika   32   \n1        Survivor: 41      41     Deshawn Radden          601  Deshawn   26   \n2        Survivor: 41      41    Xander Hastings          597   Xander   20   \n3        Survivor: 41      41     Heather Aldret          593  Heather   52   \n4        Survivor: 41      41        Ricard Foye          596   Ricard   31   \n..                ...     ...                ...          ...      ...  ...   \n757  Survivor: Borneo       1          Dirk Been            5     Dirk   23   \n758  Survivor: Borneo       1        Ramona Gray            4   Ramona   29   \n759  Survivor: Borneo       1    Stacey Stillman            3   Stacey   27   \n760  Survivor: Borneo       1      B.B. Andersen            2     B.B.   64   \n761  Survivor: Borneo       1  Sonja Christopher            1    Sonja   63   \n\n              city           state personality_type  episode  day  order  \\\n0          Toronta         Ontario             ENFP       13   26     18   \n1            Miami         Florida             ENTP       13   26     17   \n2          Chicago        Illinois             INFJ       13   26     16   \n3       Charleston  South Carolina             ISFJ       13   25     15   \n4    Sedro-Woolley      Washington             ENTJ       13   24     14   \n..             ...             ...              ...      ...  ...    ...   \n757   Spring Green       Wisconsin             ISFP        5   15      5   \n758         Edison      New Jersey             ISTJ        4   12      4   \n759  San Francisco      California             ENTJ        3    9      3   \n760  Mission Hills          Kansas             ESTJ        2    6      2   \n761   Walnut Creek      California             ENFP        1    3      1   \n\n             result      jury_status original_tribe swapped_tribe  \\\n0     Sole Survivor              NaN           Luvu           NaN   \n1         Runner-up              NaN           Luvu           NaN   \n2     2nd runner-up              NaN           Yase           NaN   \n3    15th voted out  8th jury member           Luvu           NaN   \n4    14th voted out  7th jury member             Ua           NaN   \n..              ...              ...            ...           ...   \n757   5th voted out              NaN           Tagi           NaN   \n758   4th voted out              NaN         Pagong           NaN   \n759   3rd voted out              NaN           Tagi           NaN   \n760   2nd voted out              NaN         Pagong           NaN   \n761   1st voted out              NaN           Tagi           NaN   \n\n    swapped_tribe_2 merged_tribe  total_votes_received  immunity_idols_won  \\\n0               NaN     Via Kana                     2                   8   \n1               NaN     Via Kana                     7                   6   \n2               NaN     Via Kana                     2                   6   \n3               NaN     Via Kana                     4                   6   \n4               NaN     Via Kana                     9                   5   \n..              ...          ...                   ...                 ...   \n757             NaN          NaN                     4                   2   \n758             NaN          NaN                     6                   2   \n759             NaN          NaN                     6                   1   \n760             NaN          NaN                     6                   1   \n761             NaN          NaN                     4                   0   \n\n    date_of_birth  premiered  age_at_season  \n0      1989-07-20 2021-09-22             32  \n1      1995-09-17 2021-09-22             26  \n2      2000-08-11 2021-09-22             21  \n3      1969-03-01 2021-09-22             52  \n4      1989-12-04 2021-09-22             31  \n..            ...        ...            ...  \n757    1976-06-15 2000-05-31             23  \n758    1971-01-20 2000-05-31             29  \n759    1972-08-11 2000-05-31             27  \n760    1936-01-18 2000-05-31             64  \n761    1937-01-28 2000-05-31             63  \n\n[762 rows x 23 columns]",
      "text/html": "<div>\n<style scoped>\n    .dataframe tbody tr th:only-of-type {\n        vertical-align: middle;\n    }\n\n    .dataframe tbody tr th {\n        vertical-align: top;\n    }\n\n    .dataframe thead th {\n        text-align: right;\n    }\n</style>\n<table border=\"1\" class=\"dataframe\">\n  <thead>\n    <tr style=\"text-align: right;\">\n      <th></th>\n      <th>season_name</th>\n      <th>season</th>\n      <th>full_name</th>\n      <th>castaway_id</th>\n      <th>castaway</th>\n      <th>age</th>\n      <th>city</th>\n      <th>state</th>\n      <th>personality_type</th>\n      <th>episode</th>\n      <th>day</th>\n      <th>order</th>\n      <th>result</th>\n      <th>jury_status</th>\n      <th>original_tribe</th>\n      <th>swapped_tribe</th>\n      <th>swapped_tribe_2</th>\n      <th>merged_tribe</th>\n      <th>total_votes_received</th>\n      <th>immunity_idols_won</th>\n      <th>date_of_birth</th>\n      <th>premiered</th>\n      <th>age_at_season</th>\n    </tr>\n  </thead>\n  <tbody>\n    <tr>\n      <th>0</th>\n      <td>Survivor: 41</td>\n      <td>41</td>\n      <td>Erika Casupanan</td>\n      <td>594</td>\n      <td>Erika</td>\n      <td>32</td>\n      <td>Toronta</td>\n      <td>Ontario</td>\n      <td>ENFP</td>\n      <td>13</td>\n      <td>26</td>\n      <td>18</td>\n      <td>Sole Survivor</td>\n      <td>NaN</td>\n      <td>Luvu</td>\n      <td>NaN</td>\n      <td>NaN</td>\n      <td>Via Kana</td>\n      <td>2</td>\n      <td>8</td>\n      <td>1989-07-20</td>\n      <td>2021-09-22</td>\n      <td>32</td>\n    </tr>\n    <tr>\n      <th>1</th>\n      <td>Survivor: 41</td>\n      <td>41</td>\n      <td>Deshawn Radden</td>\n      <td>601</td>\n      <td>Deshawn</td>\n      <td>26</td>\n      <td>Miami</td>\n      <td>Florida</td>\n      <td>ENTP</td>\n      <td>13</td>\n      <td>26</td>\n      <td>17</td>\n      <td>Runner-up</td>\n      <td>NaN</td>\n      <td>Luvu</td>\n      <td>NaN</td>\n      <td>NaN</td>\n      <td>Via Kana</td>\n      <td>7</td>\n      <td>6</td>\n      <td>1995-09-17</td>\n      <td>2021-09-22</td>\n      <td>26</td>\n    </tr>\n    <tr>\n      <th>2</th>\n      <td>Survivor: 41</td>\n      <td>41</td>\n      <td>Xander Hastings</td>\n      <td>597</td>\n      <td>Xander</td>\n      <td>20</td>\n      <td>Chicago</td>\n      <td>Illinois</td>\n      <td>INFJ</td>\n      <td>13</td>\n      <td>26</td>\n      <td>16</td>\n      <td>2nd runner-up</td>\n      <td>NaN</td>\n      <td>Yase</td>\n      <td>NaN</td>\n      <td>NaN</td>\n      <td>Via Kana</td>\n      <td>2</td>\n      <td>6</td>\n      <td>2000-08-11</td>\n      <td>2021-09-22</td>\n      <td>21</td>\n    </tr>\n    <tr>\n      <th>3</th>\n      <td>Survivor: 41</td>\n      <td>41</td>\n      <td>Heather Aldret</td>\n      <td>593</td>\n      <td>Heather</td>\n      <td>52</td>\n      <td>Charleston</td>\n      <td>South Carolina</td>\n      <td>ISFJ</td>\n      <td>13</td>\n      <td>25</td>\n      <td>15</td>\n      <td>15th voted out</td>\n      <td>8th jury member</td>\n      <td>Luvu</td>\n      <td>NaN</td>\n      <td>NaN</td>\n      <td>Via Kana</td>\n      <td>4</td>\n      <td>6</td>\n      <td>1969-03-01</td>\n      <td>2021-09-22</td>\n      <td>52</td>\n    </tr>\n    <tr>\n      <th>4</th>\n      <td>Survivor: 41</td>\n      <td>41</td>\n      <td>Ricard Foye</td>\n      <td>596</td>\n      <td>Ricard</td>\n      <td>31</td>\n      <td>Sedro-Woolley</td>\n      <td>Washington</td>\n      <td>ENTJ</td>\n      <td>13</td>\n      <td>24</td>\n      <td>14</td>\n      <td>14th voted out</td>\n      <td>7th jury member</td>\n      <td>Ua</td>\n      <td>NaN</td>\n      <td>NaN</td>\n      <td>Via Kana</td>\n      <td>9</td>\n      <td>5</td>\n      <td>1989-12-04</td>\n      <td>2021-09-22</td>\n      <td>31</td>\n    </tr>\n    <tr>\n      <th>...</th>\n      <td>...</td>\n      <td>...</td>\n      <td>...</td>\n      <td>...</td>\n      <td>...</td>\n      <td>...</td>\n      <td>...</td>\n      <td>...</td>\n      <td>...</td>\n      <td>...</td>\n      <td>...</td>\n      <td>...</td>\n      <td>...</td>\n      <td>...</td>\n      <td>...</td>\n      <td>...</td>\n      <td>...</td>\n      <td>...</td>\n      <td>...</td>\n      <td>...</td>\n      <td>...</td>\n      <td>...</td>\n      <td>...</td>\n    </tr>\n    <tr>\n      <th>757</th>\n      <td>Survivor: Borneo</td>\n      <td>1</td>\n      <td>Dirk Been</td>\n      <td>5</td>\n      <td>Dirk</td>\n      <td>23</td>\n      <td>Spring Green</td>\n      <td>Wisconsin</td>\n      <td>ISFP</td>\n      <td>5</td>\n      <td>15</td>\n      <td>5</td>\n      <td>5th voted out</td>\n      <td>NaN</td>\n      <td>Tagi</td>\n      <td>NaN</td>\n      <td>NaN</td>\n      <td>NaN</td>\n      <td>4</td>\n      <td>2</td>\n      <td>1976-06-15</td>\n      <td>2000-05-31</td>\n      <td>23</td>\n    </tr>\n    <tr>\n      <th>758</th>\n      <td>Survivor: Borneo</td>\n      <td>1</td>\n      <td>Ramona Gray</td>\n      <td>4</td>\n      <td>Ramona</td>\n      <td>29</td>\n      <td>Edison</td>\n      <td>New Jersey</td>\n      <td>ISTJ</td>\n      <td>4</td>\n      <td>12</td>\n      <td>4</td>\n      <td>4th voted out</td>\n      <td>NaN</td>\n      <td>Pagong</td>\n      <td>NaN</td>\n      <td>NaN</td>\n      <td>NaN</td>\n      <td>6</td>\n      <td>2</td>\n      <td>1971-01-20</td>\n      <td>2000-05-31</td>\n      <td>29</td>\n    </tr>\n    <tr>\n      <th>759</th>\n      <td>Survivor: Borneo</td>\n      <td>1</td>\n      <td>Stacey Stillman</td>\n      <td>3</td>\n      <td>Stacey</td>\n      <td>27</td>\n      <td>San Francisco</td>\n      <td>California</td>\n      <td>ENTJ</td>\n      <td>3</td>\n      <td>9</td>\n      <td>3</td>\n      <td>3rd voted out</td>\n      <td>NaN</td>\n      <td>Tagi</td>\n      <td>NaN</td>\n      <td>NaN</td>\n      <td>NaN</td>\n      <td>6</td>\n      <td>1</td>\n      <td>1972-08-11</td>\n      <td>2000-05-31</td>\n      <td>27</td>\n    </tr>\n    <tr>\n      <th>760</th>\n      <td>Survivor: Borneo</td>\n      <td>1</td>\n      <td>B.B. Andersen</td>\n      <td>2</td>\n      <td>B.B.</td>\n      <td>64</td>\n      <td>Mission Hills</td>\n      <td>Kansas</td>\n      <td>ESTJ</td>\n      <td>2</td>\n      <td>6</td>\n      <td>2</td>\n      <td>2nd voted out</td>\n      <td>NaN</td>\n      <td>Pagong</td>\n      <td>NaN</td>\n      <td>NaN</td>\n      <td>NaN</td>\n      <td>6</td>\n      <td>1</td>\n      <td>1936-01-18</td>\n      <td>2000-05-31</td>\n      <td>64</td>\n    </tr>\n    <tr>\n      <th>761</th>\n      <td>Survivor: Borneo</td>\n      <td>1</td>\n      <td>Sonja Christopher</td>\n      <td>1</td>\n      <td>Sonja</td>\n      <td>63</td>\n      <td>Walnut Creek</td>\n      <td>California</td>\n      <td>ENFP</td>\n      <td>1</td>\n      <td>3</td>\n      <td>1</td>\n      <td>1st voted out</td>\n      <td>NaN</td>\n      <td>Tagi</td>\n      <td>NaN</td>\n      <td>NaN</td>\n      <td>NaN</td>\n      <td>4</td>\n      <td>0</td>\n      <td>1937-01-28</td>\n      <td>2000-05-31</td>\n      <td>63</td>\n    </tr>\n  </tbody>\n</table>\n<p>762 rows × 23 columns</p>\n</div>"
     },
     "execution_count": 24,
     "metadata": {},
     "output_type": "execute_result"
    }
   ],
   "source": [
    "merged_data"
   ],
   "metadata": {
    "collapsed": false,
    "ExecuteTime": {
     "end_time": "2023-12-08T10:15:57.249157Z",
     "start_time": "2023-12-08T10:15:57.234873Z"
    }
   }
  },
  {
   "cell_type": "markdown",
   "metadata": {},
   "source": [
    "**Q3:** What contestant played in the most number of seasons? Select their row from the `castaway_details` DataFrame and save this as `Q3`.  This should return a DataFrame and the index and missing values should be left as is."
   ]
  },
  {
   "cell_type": "code",
   "execution_count": 5,
   "metadata": {
    "ExecuteTime": {
     "end_time": "2023-12-08T09:43:28.935477Z",
     "start_time": "2023-12-08T09:43:26.643072Z"
    }
   },
   "outputs": [
    {
     "data": {
      "text/plain": "    castaway_id    full_name  short_name date_of_birth date_of_death gender  \\\n54           55  Rob Mariano  Boston Rob    1975-12-25           NaT   Male   \n\n   race ethnicity           occupation personality_type  \n54  NaN       NaN  Construction Worker             ESTJ  ",
      "text/html": "<div>\n<style scoped>\n    .dataframe tbody tr th:only-of-type {\n        vertical-align: middle;\n    }\n\n    .dataframe tbody tr th {\n        vertical-align: top;\n    }\n\n    .dataframe thead th {\n        text-align: right;\n    }\n</style>\n<table border=\"1\" class=\"dataframe\">\n  <thead>\n    <tr style=\"text-align: right;\">\n      <th></th>\n      <th>castaway_id</th>\n      <th>full_name</th>\n      <th>short_name</th>\n      <th>date_of_birth</th>\n      <th>date_of_death</th>\n      <th>gender</th>\n      <th>race</th>\n      <th>ethnicity</th>\n      <th>occupation</th>\n      <th>personality_type</th>\n    </tr>\n  </thead>\n  <tbody>\n    <tr>\n      <th>54</th>\n      <td>55</td>\n      <td>Rob Mariano</td>\n      <td>Boston Rob</td>\n      <td>1975-12-25</td>\n      <td>NaT</td>\n      <td>Male</td>\n      <td>NaN</td>\n      <td>NaN</td>\n      <td>Construction Worker</td>\n      <td>ESTJ</td>\n    </tr>\n  </tbody>\n</table>\n</div>"
     },
     "execution_count": 5,
     "metadata": {},
     "output_type": "execute_result"
    }
   ],
   "source": [
    "# Creating a DataFrame to count unique seasons for each contestant\n",
    "unique_seasons = castaways.groupby('castaway_id')['season'].nunique()\n",
    "\n",
    "# Finding the contestant ID with the most unique season appearances\n",
    "most_seasons_id = unique_seasons.idxmax()\n",
    "\n",
    "# Retrieve details of the contestant with the most unique seasons\n",
    "Q3 = castaway_details[castaway_details['castaway_id'] == most_seasons_id]\n",
    "\n",
    "# Display the result\n",
    "Q3"
   ]
  },
  {
   "cell_type": "markdown",
   "metadata": {},
   "source": [
    "**Q4:** Create a DataFrame of all the contestants that won their season (aka their final result in the `castaways` DataFrame was the 'Sole Survivor').  Call this DataFrame `sole_survivor`.  Note that contestants may appear more than one time in this DataFrame if they won more than one season.  Make sure that the index goes from 0 to n-1 and that the DataFrame is sorted ascending by season number.\n",
    "\n",
    "The DataFrame should have the same columns, and the columns should be in the same order, as the `castaways` DataFrame."
   ]
  },
  {
   "cell_type": "code",
   "execution_count": 6,
   "metadata": {
    "ExecuteTime": {
     "end_time": "2023-12-08T09:43:28.936418Z",
     "start_time": "2023-12-08T09:43:26.655105Z"
    }
   },
   "outputs": [
    {
     "data": {
      "text/plain": "                                  season_name  season           full_name  \\\n0                            Survivor: Borneo       1       Richard Hatch   \n1            Survivor: The Australian Outback       2         Tina Wesson   \n2                            Survivor: Africa       3          Ethan Zohn   \n3                         Survivor: Marquesas       4      Vecepia Towery   \n4                          Survivor: Thailand       5        Brian Heidik   \n5                        Survivor: The Amazon       6       Jenna Morasca   \n6                     Survivor: Pearl Islands       7   Sandra Diaz-Twine   \n7                         Survivor: All-Stars       8        Amber Brkich   \n8                           Survivor: Vanuatu       9     Chris Daugherty   \n9                             Survivor: Palau      10         Tom Westman   \n10                        Survivor: Guatemala      11    Danni Boatwright   \n11                           Survivor: Panama      12     Aras Baskauskas   \n12                     Survivor: Cook Islands      13            Yul Kwon   \n13                             Survivor: Fiji      14           Earl Cole   \n14                            Survivor: China      15         Todd Herzog   \n15                       Survivor: Micronesia      16     Parvati Shallow   \n16                            Survivor: Gabon      17      Robert Crowley   \n17                        Survivor: Tocantins      18    James Thomas Jr.   \n18                            Survivor: Samoa      19       Natalie White   \n19              Survivor: Heroes vs. Villains      20   Sandra Diaz-Twine   \n20                        Survivor: Nicaragua      21           Jud Birza   \n21                Survivor: Redemption Island      22         Rob Mariano   \n22                    Survivor: South Pacific      23       Sophie Clarke   \n23                        Survivor: One World      24        Kim Spradlin   \n24                      Survivor: Philippines      25      Denise Stapley   \n25                         Survivor: Caramoan      26        John Cochran   \n26                  Survivor: Blood vs. Water      27       Tyson Apostol   \n27                          Survivor: Cagayan      28        Tony Vlachos   \n28                 Survivor: San Juan del Sur      29    Natalie Anderson   \n29                     Survivor: Worlds Apart      30       Mike Holloway   \n30                         Survivor: Cambodia      31      Jeremy Collins   \n31                        Survivor: Kaoh Rong      32  Michele Fitzgerald   \n32            Survivor: Millennials vs. Gen X      33          Adam Klein   \n33                    Survivor: Game Changers      34        Sarah Lacina   \n34  Survivor: Heroes vs. Healers vs. Hustlers      35      Ben Driebergen   \n35                     Survivor: Ghost Island      36     Wendell Holland   \n36                Survivor: David vs. Goliath      37         Nick Wilson   \n37               Survivor: Edge of Extinction      38     Chris Underwood   \n38              Survivor: Island of the Idols      39       Tommy Sheehan   \n39                   Survivor: Winners at War      40        Tony Vlachos   \n40                               Survivor: 41      41     Erika Casupanan   \n\n    castaway_id    castaway  age                  city           state  \\\n0            16     Richard   39               Newport    Rhode Island   \n1            32        Tina   40             Knoxville       Tennessee   \n2            48       Ethan   27             Lexington   Massachusetts   \n3            64     Vecepia   36               Hayward      California   \n4            80       Brian   34           Quartz Hill      California   \n5            96       Jenna   21           Bridgeville    Pennsylvania   \n6           112      Sandra   29            Fort Lewis      Washington   \n7            27       Amber   25                Beaver    Pennsylvania   \n8           130       Chris   33          South Vienna            Ohio   \n9           150         Tom   40              Sayville        New York   \n10          166       Danni   29            Tonganoxie          Kansas   \n11          182        Aras   24          Santa Monica      California   \n12          202         Yul   31             San Mateo      California   \n13          221        Earl   35          Santa Monica      California   \n14          237        Todd   22        Pleasant Grove            Utah   \n15          197     Parvati   25           Los Angeles      California   \n16          265         Bob   57        South Portland           Maine   \n17          281        J.T.   24                Mobile         Alabama   \n18          301     Natalie   26             Van Buren        Arkansas   \n19          112      Sandra   35          Fayetteville  North Carolina   \n20          321       Fabio   21                Venice      California   \n21           55  Boston Rob   34             Pensacola         Florida   \n22          353      Sophie   22             Willsboro        New York   \n23          371         Kim   29           San Antonio           Texas   \n24          386      Denise   41          Cedar Rapids            Iowa   \n25          348     Cochran   25            Washington            D.C.   \n26          274       Tyson   34                 Provo            Utah   \n27          424        Tony   39           Jersey City      New Jersey   \n28          442     Natalie   28             Edgewater      New Jersey   \n29          460        Mike   38  North Richland Hills           Texas   \n30          433      Jeremy   37               Foxboro   Massachusetts   \n31          478     Michele   24              Freehold      New Jersey   \n32          498        Adam   25         San Francisco      California   \n33          414       Sarah   32                Marion            Iowa   \n34          516         Ben   34                 Boise           Idaho   \n35          536     Wendell   33          Philadelphia    Pennsylvania   \n36          556        Nick   27          Williamsburg        Kentucky   \n37          559       Chris   25            Greenville  South Carolina   \n38          590       Tommy   26            Long Beach        New York   \n39          424        Tony   45             Allendale      New Jersey   \n40          594       Erika   32               Toronta         Ontario   \n\n   personality_type  episode  day  order         result jury_status  \\\n0              ENTP       14   39     16  Sole Survivor         NaN   \n1              ESFJ       16   42     16  Sole Survivor         NaN   \n2              ISFP       15   39     16  Sole Survivor         NaN   \n3              ISTJ       15   39     16  Sole Survivor         NaN   \n4              ISTP       15   39     16  Sole Survivor         NaN   \n5              ISTP       15   39     16  Sole Survivor         NaN   \n6              ESTP       15   39     18  Sole Survivor         NaN   \n7              ISFP       17   39     18  Sole Survivor         NaN   \n8              ENTP       15   39     18  Sole Survivor         NaN   \n9              ESTJ       15   39     20  Sole Survivor         NaN   \n10             ENFJ       15   39     18  Sole Survivor         NaN   \n11             INFP       16   39     16  Sole Survivor         NaN   \n12             INTJ       16   39     20  Sole Survivor         NaN   \n13             INFJ       15   39     19  Sole Survivor         NaN   \n14             ENFP       15   39     16  Sole Survivor         NaN   \n15             ENFJ       15   39     20  Sole Survivor         NaN   \n16             INTP       14   39     18  Sole Survivor         NaN   \n17             ESTP       15   39     16  Sole Survivor         NaN   \n18             ISFJ       16   39     20  Sole Survivor         NaN   \n19             ESTP       15   39     20  Sole Survivor         NaN   \n20             ESFP       16   39     20  Sole Survivor         NaN   \n21             ESTJ       15   39     20  Sole Survivor         NaN   \n22             INTJ       16   39     20  Sole Survivor         NaN   \n23             INFJ       15   39     18  Sole Survivor         NaN   \n24             INFJ       15   39     18  Sole Survivor         NaN   \n25             INTP       15   39     20  Sole Survivor         NaN   \n26             ESTP       15   39     23  Sole Survivor         NaN   \n27             ESTP       14   39     18  Sole Survivor         NaN   \n28             ESTP       15   39     18  Sole Survivor         NaN   \n29             ESTP       15   39     18  Sole Survivor         NaN   \n30             ESTJ       15   39     20  Sole Survivor         NaN   \n31             ESFP       15   39     18  Sole Survivor         NaN   \n32             ENTP       14   39     20  Sole Survivor         NaN   \n33             ENTJ       14   39     20  Sole Survivor         NaN   \n34             ESFP       14   39     18  Sole Survivor         NaN   \n35             INFJ       14   39     20  Sole Survivor         NaN   \n36             ENTP       14   39     20  Sole Survivor         NaN   \n37             ENTP       14   39     20  Sole Survivor         NaN   \n38             ENFJ       14   39     20  Sole Survivor         NaN   \n39             ESTP       15   39     22  Sole Survivor         NaN   \n40             ENFP       13   26     18  Sole Survivor         NaN   \n\n   original_tribe swapped_tribe swapped_tribe_2  merged_tribe  \\\n0            Tagi           NaN             NaN       Rattana   \n1          Ogakor           NaN             NaN    Barramundi   \n2           Boran         Boran             NaN     Moto Maji   \n3         Maraamu          Rotu             NaN      Soliantu   \n4      Chuay Gahn           NaN             NaN     Chuay Jai   \n5          Jaburu        Jaburu             NaN        Jacaré   \n6           Drake         Drake             NaN        Balboa   \n7         Chapera       Chapera         Chapera  Chaboga Mogo   \n8          Lopevi        Lopevi             NaN        Alinta   \n9           Koror           NaN             NaN         Koror   \n10          Nakúm         Yaxhá             NaN        Xhakúm   \n11        Viveros        Casaya             NaN       Gitanos   \n12      Puka Puka      Aitutaki        Aitutaki     Aitutonga   \n13           Ravu          Moto             NaN     Bula Bula   \n14       Fei Long      Fei Long             NaN   Hae Da Fung   \n15        Malakal         Airai             NaN          Dabu   \n16           Kota          Kota            Kota         Nobag   \n17        Jalapao           NaN             NaN         Forza   \n18        Foa Foa           NaN             NaN          Aiga   \n19       Villains           NaN             NaN      Yin Yang   \n20        La Flor       La Flor             NaN      Libertad   \n21        Ometepe           NaN             NaN      Murlonio   \n22          Upolu           NaN             NaN       Te Tuna   \n23         Salani        Salani             NaN       Tikiano   \n24        Matsing       Kalabaw             NaN     Dangrayne   \n25          Bikal         Bikal             NaN     Enil Edam   \n26         Galang       Tadhana             NaN        Kasama   \n27         Aparri        Solana             NaN     Solarrion   \n28        Hunahpu       Hunahpu             NaN        Huyopa   \n29       Escameca      Escameca             NaN        Merica   \n30          Bayon         Bayon           Bayon         Orkun   \n31         Gondol      Chan Loh             NaN          Dara   \n32          Vanua        Takali             NaN        Vinaka   \n33           Nuku         Tavua             NaN     Maku Maku   \n34           Levu          Yawa             NaN        Solewa   \n35         Naviti        Naviti          Yanuya        Lavita   \n36          David        Jabeni             NaN      Kalokalo   \n37           Manu           NaN             NaN          Vata   \n38          Vokai         Vokai             NaN      Lumuwaku   \n39          Dakal         Dakal             NaN          Koru   \n40           Luvu           NaN             NaN      Via Kana   \n\n    total_votes_received  immunity_idols_won  \n0                      6                   4  \n1                      0                   2  \n2                      0                   4  \n3                      2                   4  \n4                      0                   8  \n5                      3                   7  \n6                      0                   3  \n7                      6                   6  \n8                      3                   6  \n9                      0                  12  \n10                     1                   5  \n11                     9                   4  \n12                     5                   6  \n13                     1                   5  \n14                     5                   4  \n15                     4                   7  \n16                     2                   8  \n17                     0                   5  \n18                     8                   1  \n19                     3                   4  \n20                     2                   8  \n21                     7                   9  \n22                     5                   6  \n23                     3                   6  \n24                     6                   1  \n25                     0                   7  \n26                     2                   8  \n27                     5                   6  \n28                     0                   6  \n29                     4                   7  \n30                     3                   7  \n31                     1                   7  \n32                     6                   6  \n33                     0                   4  \n34                    11                   4  \n35                     5                   8  \n36                     0                   4  \n37                     9                   1  \n38                     2                   6  \n39                     0                   9  \n40                     2                   8  ",
      "text/html": "<div>\n<style scoped>\n    .dataframe tbody tr th:only-of-type {\n        vertical-align: middle;\n    }\n\n    .dataframe tbody tr th {\n        vertical-align: top;\n    }\n\n    .dataframe thead th {\n        text-align: right;\n    }\n</style>\n<table border=\"1\" class=\"dataframe\">\n  <thead>\n    <tr style=\"text-align: right;\">\n      <th></th>\n      <th>season_name</th>\n      <th>season</th>\n      <th>full_name</th>\n      <th>castaway_id</th>\n      <th>castaway</th>\n      <th>age</th>\n      <th>city</th>\n      <th>state</th>\n      <th>personality_type</th>\n      <th>episode</th>\n      <th>day</th>\n      <th>order</th>\n      <th>result</th>\n      <th>jury_status</th>\n      <th>original_tribe</th>\n      <th>swapped_tribe</th>\n      <th>swapped_tribe_2</th>\n      <th>merged_tribe</th>\n      <th>total_votes_received</th>\n      <th>immunity_idols_won</th>\n    </tr>\n  </thead>\n  <tbody>\n    <tr>\n      <th>0</th>\n      <td>Survivor: Borneo</td>\n      <td>1</td>\n      <td>Richard Hatch</td>\n      <td>16</td>\n      <td>Richard</td>\n      <td>39</td>\n      <td>Newport</td>\n      <td>Rhode Island</td>\n      <td>ENTP</td>\n      <td>14</td>\n      <td>39</td>\n      <td>16</td>\n      <td>Sole Survivor</td>\n      <td>NaN</td>\n      <td>Tagi</td>\n      <td>NaN</td>\n      <td>NaN</td>\n      <td>Rattana</td>\n      <td>6</td>\n      <td>4</td>\n    </tr>\n    <tr>\n      <th>1</th>\n      <td>Survivor: The Australian Outback</td>\n      <td>2</td>\n      <td>Tina Wesson</td>\n      <td>32</td>\n      <td>Tina</td>\n      <td>40</td>\n      <td>Knoxville</td>\n      <td>Tennessee</td>\n      <td>ESFJ</td>\n      <td>16</td>\n      <td>42</td>\n      <td>16</td>\n      <td>Sole Survivor</td>\n      <td>NaN</td>\n      <td>Ogakor</td>\n      <td>NaN</td>\n      <td>NaN</td>\n      <td>Barramundi</td>\n      <td>0</td>\n      <td>2</td>\n    </tr>\n    <tr>\n      <th>2</th>\n      <td>Survivor: Africa</td>\n      <td>3</td>\n      <td>Ethan Zohn</td>\n      <td>48</td>\n      <td>Ethan</td>\n      <td>27</td>\n      <td>Lexington</td>\n      <td>Massachusetts</td>\n      <td>ISFP</td>\n      <td>15</td>\n      <td>39</td>\n      <td>16</td>\n      <td>Sole Survivor</td>\n      <td>NaN</td>\n      <td>Boran</td>\n      <td>Boran</td>\n      <td>NaN</td>\n      <td>Moto Maji</td>\n      <td>0</td>\n      <td>4</td>\n    </tr>\n    <tr>\n      <th>3</th>\n      <td>Survivor: Marquesas</td>\n      <td>4</td>\n      <td>Vecepia Towery</td>\n      <td>64</td>\n      <td>Vecepia</td>\n      <td>36</td>\n      <td>Hayward</td>\n      <td>California</td>\n      <td>ISTJ</td>\n      <td>15</td>\n      <td>39</td>\n      <td>16</td>\n      <td>Sole Survivor</td>\n      <td>NaN</td>\n      <td>Maraamu</td>\n      <td>Rotu</td>\n      <td>NaN</td>\n      <td>Soliantu</td>\n      <td>2</td>\n      <td>4</td>\n    </tr>\n    <tr>\n      <th>4</th>\n      <td>Survivor: Thailand</td>\n      <td>5</td>\n      <td>Brian Heidik</td>\n      <td>80</td>\n      <td>Brian</td>\n      <td>34</td>\n      <td>Quartz Hill</td>\n      <td>California</td>\n      <td>ISTP</td>\n      <td>15</td>\n      <td>39</td>\n      <td>16</td>\n      <td>Sole Survivor</td>\n      <td>NaN</td>\n      <td>Chuay Gahn</td>\n      <td>NaN</td>\n      <td>NaN</td>\n      <td>Chuay Jai</td>\n      <td>0</td>\n      <td>8</td>\n    </tr>\n    <tr>\n      <th>5</th>\n      <td>Survivor: The Amazon</td>\n      <td>6</td>\n      <td>Jenna Morasca</td>\n      <td>96</td>\n      <td>Jenna</td>\n      <td>21</td>\n      <td>Bridgeville</td>\n      <td>Pennsylvania</td>\n      <td>ISTP</td>\n      <td>15</td>\n      <td>39</td>\n      <td>16</td>\n      <td>Sole Survivor</td>\n      <td>NaN</td>\n      <td>Jaburu</td>\n      <td>Jaburu</td>\n      <td>NaN</td>\n      <td>Jacaré</td>\n      <td>3</td>\n      <td>7</td>\n    </tr>\n    <tr>\n      <th>6</th>\n      <td>Survivor: Pearl Islands</td>\n      <td>7</td>\n      <td>Sandra Diaz-Twine</td>\n      <td>112</td>\n      <td>Sandra</td>\n      <td>29</td>\n      <td>Fort Lewis</td>\n      <td>Washington</td>\n      <td>ESTP</td>\n      <td>15</td>\n      <td>39</td>\n      <td>18</td>\n      <td>Sole Survivor</td>\n      <td>NaN</td>\n      <td>Drake</td>\n      <td>Drake</td>\n      <td>NaN</td>\n      <td>Balboa</td>\n      <td>0</td>\n      <td>3</td>\n    </tr>\n    <tr>\n      <th>7</th>\n      <td>Survivor: All-Stars</td>\n      <td>8</td>\n      <td>Amber Brkich</td>\n      <td>27</td>\n      <td>Amber</td>\n      <td>25</td>\n      <td>Beaver</td>\n      <td>Pennsylvania</td>\n      <td>ISFP</td>\n      <td>17</td>\n      <td>39</td>\n      <td>18</td>\n      <td>Sole Survivor</td>\n      <td>NaN</td>\n      <td>Chapera</td>\n      <td>Chapera</td>\n      <td>Chapera</td>\n      <td>Chaboga Mogo</td>\n      <td>6</td>\n      <td>6</td>\n    </tr>\n    <tr>\n      <th>8</th>\n      <td>Survivor: Vanuatu</td>\n      <td>9</td>\n      <td>Chris Daugherty</td>\n      <td>130</td>\n      <td>Chris</td>\n      <td>33</td>\n      <td>South Vienna</td>\n      <td>Ohio</td>\n      <td>ENTP</td>\n      <td>15</td>\n      <td>39</td>\n      <td>18</td>\n      <td>Sole Survivor</td>\n      <td>NaN</td>\n      <td>Lopevi</td>\n      <td>Lopevi</td>\n      <td>NaN</td>\n      <td>Alinta</td>\n      <td>3</td>\n      <td>6</td>\n    </tr>\n    <tr>\n      <th>9</th>\n      <td>Survivor: Palau</td>\n      <td>10</td>\n      <td>Tom Westman</td>\n      <td>150</td>\n      <td>Tom</td>\n      <td>40</td>\n      <td>Sayville</td>\n      <td>New York</td>\n      <td>ESTJ</td>\n      <td>15</td>\n      <td>39</td>\n      <td>20</td>\n      <td>Sole Survivor</td>\n      <td>NaN</td>\n      <td>Koror</td>\n      <td>NaN</td>\n      <td>NaN</td>\n      <td>Koror</td>\n      <td>0</td>\n      <td>12</td>\n    </tr>\n    <tr>\n      <th>10</th>\n      <td>Survivor: Guatemala</td>\n      <td>11</td>\n      <td>Danni Boatwright</td>\n      <td>166</td>\n      <td>Danni</td>\n      <td>29</td>\n      <td>Tonganoxie</td>\n      <td>Kansas</td>\n      <td>ENFJ</td>\n      <td>15</td>\n      <td>39</td>\n      <td>18</td>\n      <td>Sole Survivor</td>\n      <td>NaN</td>\n      <td>Nakúm</td>\n      <td>Yaxhá</td>\n      <td>NaN</td>\n      <td>Xhakúm</td>\n      <td>1</td>\n      <td>5</td>\n    </tr>\n    <tr>\n      <th>11</th>\n      <td>Survivor: Panama</td>\n      <td>12</td>\n      <td>Aras Baskauskas</td>\n      <td>182</td>\n      <td>Aras</td>\n      <td>24</td>\n      <td>Santa Monica</td>\n      <td>California</td>\n      <td>INFP</td>\n      <td>16</td>\n      <td>39</td>\n      <td>16</td>\n      <td>Sole Survivor</td>\n      <td>NaN</td>\n      <td>Viveros</td>\n      <td>Casaya</td>\n      <td>NaN</td>\n      <td>Gitanos</td>\n      <td>9</td>\n      <td>4</td>\n    </tr>\n    <tr>\n      <th>12</th>\n      <td>Survivor: Cook Islands</td>\n      <td>13</td>\n      <td>Yul Kwon</td>\n      <td>202</td>\n      <td>Yul</td>\n      <td>31</td>\n      <td>San Mateo</td>\n      <td>California</td>\n      <td>INTJ</td>\n      <td>16</td>\n      <td>39</td>\n      <td>20</td>\n      <td>Sole Survivor</td>\n      <td>NaN</td>\n      <td>Puka Puka</td>\n      <td>Aitutaki</td>\n      <td>Aitutaki</td>\n      <td>Aitutonga</td>\n      <td>5</td>\n      <td>6</td>\n    </tr>\n    <tr>\n      <th>13</th>\n      <td>Survivor: Fiji</td>\n      <td>14</td>\n      <td>Earl Cole</td>\n      <td>221</td>\n      <td>Earl</td>\n      <td>35</td>\n      <td>Santa Monica</td>\n      <td>California</td>\n      <td>INFJ</td>\n      <td>15</td>\n      <td>39</td>\n      <td>19</td>\n      <td>Sole Survivor</td>\n      <td>NaN</td>\n      <td>Ravu</td>\n      <td>Moto</td>\n      <td>NaN</td>\n      <td>Bula Bula</td>\n      <td>1</td>\n      <td>5</td>\n    </tr>\n    <tr>\n      <th>14</th>\n      <td>Survivor: China</td>\n      <td>15</td>\n      <td>Todd Herzog</td>\n      <td>237</td>\n      <td>Todd</td>\n      <td>22</td>\n      <td>Pleasant Grove</td>\n      <td>Utah</td>\n      <td>ENFP</td>\n      <td>15</td>\n      <td>39</td>\n      <td>16</td>\n      <td>Sole Survivor</td>\n      <td>NaN</td>\n      <td>Fei Long</td>\n      <td>Fei Long</td>\n      <td>NaN</td>\n      <td>Hae Da Fung</td>\n      <td>5</td>\n      <td>4</td>\n    </tr>\n    <tr>\n      <th>15</th>\n      <td>Survivor: Micronesia</td>\n      <td>16</td>\n      <td>Parvati Shallow</td>\n      <td>197</td>\n      <td>Parvati</td>\n      <td>25</td>\n      <td>Los Angeles</td>\n      <td>California</td>\n      <td>ENFJ</td>\n      <td>15</td>\n      <td>39</td>\n      <td>20</td>\n      <td>Sole Survivor</td>\n      <td>NaN</td>\n      <td>Malakal</td>\n      <td>Airai</td>\n      <td>NaN</td>\n      <td>Dabu</td>\n      <td>4</td>\n      <td>7</td>\n    </tr>\n    <tr>\n      <th>16</th>\n      <td>Survivor: Gabon</td>\n      <td>17</td>\n      <td>Robert Crowley</td>\n      <td>265</td>\n      <td>Bob</td>\n      <td>57</td>\n      <td>South Portland</td>\n      <td>Maine</td>\n      <td>INTP</td>\n      <td>14</td>\n      <td>39</td>\n      <td>18</td>\n      <td>Sole Survivor</td>\n      <td>NaN</td>\n      <td>Kota</td>\n      <td>Kota</td>\n      <td>Kota</td>\n      <td>Nobag</td>\n      <td>2</td>\n      <td>8</td>\n    </tr>\n    <tr>\n      <th>17</th>\n      <td>Survivor: Tocantins</td>\n      <td>18</td>\n      <td>James Thomas Jr.</td>\n      <td>281</td>\n      <td>J.T.</td>\n      <td>24</td>\n      <td>Mobile</td>\n      <td>Alabama</td>\n      <td>ESTP</td>\n      <td>15</td>\n      <td>39</td>\n      <td>16</td>\n      <td>Sole Survivor</td>\n      <td>NaN</td>\n      <td>Jalapao</td>\n      <td>NaN</td>\n      <td>NaN</td>\n      <td>Forza</td>\n      <td>0</td>\n      <td>5</td>\n    </tr>\n    <tr>\n      <th>18</th>\n      <td>Survivor: Samoa</td>\n      <td>19</td>\n      <td>Natalie White</td>\n      <td>301</td>\n      <td>Natalie</td>\n      <td>26</td>\n      <td>Van Buren</td>\n      <td>Arkansas</td>\n      <td>ISFJ</td>\n      <td>16</td>\n      <td>39</td>\n      <td>20</td>\n      <td>Sole Survivor</td>\n      <td>NaN</td>\n      <td>Foa Foa</td>\n      <td>NaN</td>\n      <td>NaN</td>\n      <td>Aiga</td>\n      <td>8</td>\n      <td>1</td>\n    </tr>\n    <tr>\n      <th>19</th>\n      <td>Survivor: Heroes vs. Villains</td>\n      <td>20</td>\n      <td>Sandra Diaz-Twine</td>\n      <td>112</td>\n      <td>Sandra</td>\n      <td>35</td>\n      <td>Fayetteville</td>\n      <td>North Carolina</td>\n      <td>ESTP</td>\n      <td>15</td>\n      <td>39</td>\n      <td>20</td>\n      <td>Sole Survivor</td>\n      <td>NaN</td>\n      <td>Villains</td>\n      <td>NaN</td>\n      <td>NaN</td>\n      <td>Yin Yang</td>\n      <td>3</td>\n      <td>4</td>\n    </tr>\n    <tr>\n      <th>20</th>\n      <td>Survivor: Nicaragua</td>\n      <td>21</td>\n      <td>Jud Birza</td>\n      <td>321</td>\n      <td>Fabio</td>\n      <td>21</td>\n      <td>Venice</td>\n      <td>California</td>\n      <td>ESFP</td>\n      <td>16</td>\n      <td>39</td>\n      <td>20</td>\n      <td>Sole Survivor</td>\n      <td>NaN</td>\n      <td>La Flor</td>\n      <td>La Flor</td>\n      <td>NaN</td>\n      <td>Libertad</td>\n      <td>2</td>\n      <td>8</td>\n    </tr>\n    <tr>\n      <th>21</th>\n      <td>Survivor: Redemption Island</td>\n      <td>22</td>\n      <td>Rob Mariano</td>\n      <td>55</td>\n      <td>Boston Rob</td>\n      <td>34</td>\n      <td>Pensacola</td>\n      <td>Florida</td>\n      <td>ESTJ</td>\n      <td>15</td>\n      <td>39</td>\n      <td>20</td>\n      <td>Sole Survivor</td>\n      <td>NaN</td>\n      <td>Ometepe</td>\n      <td>NaN</td>\n      <td>NaN</td>\n      <td>Murlonio</td>\n      <td>7</td>\n      <td>9</td>\n    </tr>\n    <tr>\n      <th>22</th>\n      <td>Survivor: South Pacific</td>\n      <td>23</td>\n      <td>Sophie Clarke</td>\n      <td>353</td>\n      <td>Sophie</td>\n      <td>22</td>\n      <td>Willsboro</td>\n      <td>New York</td>\n      <td>INTJ</td>\n      <td>16</td>\n      <td>39</td>\n      <td>20</td>\n      <td>Sole Survivor</td>\n      <td>NaN</td>\n      <td>Upolu</td>\n      <td>NaN</td>\n      <td>NaN</td>\n      <td>Te Tuna</td>\n      <td>5</td>\n      <td>6</td>\n    </tr>\n    <tr>\n      <th>23</th>\n      <td>Survivor: One World</td>\n      <td>24</td>\n      <td>Kim Spradlin</td>\n      <td>371</td>\n      <td>Kim</td>\n      <td>29</td>\n      <td>San Antonio</td>\n      <td>Texas</td>\n      <td>INFJ</td>\n      <td>15</td>\n      <td>39</td>\n      <td>18</td>\n      <td>Sole Survivor</td>\n      <td>NaN</td>\n      <td>Salani</td>\n      <td>Salani</td>\n      <td>NaN</td>\n      <td>Tikiano</td>\n      <td>3</td>\n      <td>6</td>\n    </tr>\n    <tr>\n      <th>24</th>\n      <td>Survivor: Philippines</td>\n      <td>25</td>\n      <td>Denise Stapley</td>\n      <td>386</td>\n      <td>Denise</td>\n      <td>41</td>\n      <td>Cedar Rapids</td>\n      <td>Iowa</td>\n      <td>INFJ</td>\n      <td>15</td>\n      <td>39</td>\n      <td>18</td>\n      <td>Sole Survivor</td>\n      <td>NaN</td>\n      <td>Matsing</td>\n      <td>Kalabaw</td>\n      <td>NaN</td>\n      <td>Dangrayne</td>\n      <td>6</td>\n      <td>1</td>\n    </tr>\n    <tr>\n      <th>25</th>\n      <td>Survivor: Caramoan</td>\n      <td>26</td>\n      <td>John Cochran</td>\n      <td>348</td>\n      <td>Cochran</td>\n      <td>25</td>\n      <td>Washington</td>\n      <td>D.C.</td>\n      <td>INTP</td>\n      <td>15</td>\n      <td>39</td>\n      <td>20</td>\n      <td>Sole Survivor</td>\n      <td>NaN</td>\n      <td>Bikal</td>\n      <td>Bikal</td>\n      <td>NaN</td>\n      <td>Enil Edam</td>\n      <td>0</td>\n      <td>7</td>\n    </tr>\n    <tr>\n      <th>26</th>\n      <td>Survivor: Blood vs. Water</td>\n      <td>27</td>\n      <td>Tyson Apostol</td>\n      <td>274</td>\n      <td>Tyson</td>\n      <td>34</td>\n      <td>Provo</td>\n      <td>Utah</td>\n      <td>ESTP</td>\n      <td>15</td>\n      <td>39</td>\n      <td>23</td>\n      <td>Sole Survivor</td>\n      <td>NaN</td>\n      <td>Galang</td>\n      <td>Tadhana</td>\n      <td>NaN</td>\n      <td>Kasama</td>\n      <td>2</td>\n      <td>8</td>\n    </tr>\n    <tr>\n      <th>27</th>\n      <td>Survivor: Cagayan</td>\n      <td>28</td>\n      <td>Tony Vlachos</td>\n      <td>424</td>\n      <td>Tony</td>\n      <td>39</td>\n      <td>Jersey City</td>\n      <td>New Jersey</td>\n      <td>ESTP</td>\n      <td>14</td>\n      <td>39</td>\n      <td>18</td>\n      <td>Sole Survivor</td>\n      <td>NaN</td>\n      <td>Aparri</td>\n      <td>Solana</td>\n      <td>NaN</td>\n      <td>Solarrion</td>\n      <td>5</td>\n      <td>6</td>\n    </tr>\n    <tr>\n      <th>28</th>\n      <td>Survivor: San Juan del Sur</td>\n      <td>29</td>\n      <td>Natalie Anderson</td>\n      <td>442</td>\n      <td>Natalie</td>\n      <td>28</td>\n      <td>Edgewater</td>\n      <td>New Jersey</td>\n      <td>ESTP</td>\n      <td>15</td>\n      <td>39</td>\n      <td>18</td>\n      <td>Sole Survivor</td>\n      <td>NaN</td>\n      <td>Hunahpu</td>\n      <td>Hunahpu</td>\n      <td>NaN</td>\n      <td>Huyopa</td>\n      <td>0</td>\n      <td>6</td>\n    </tr>\n    <tr>\n      <th>29</th>\n      <td>Survivor: Worlds Apart</td>\n      <td>30</td>\n      <td>Mike Holloway</td>\n      <td>460</td>\n      <td>Mike</td>\n      <td>38</td>\n      <td>North Richland Hills</td>\n      <td>Texas</td>\n      <td>ESTP</td>\n      <td>15</td>\n      <td>39</td>\n      <td>18</td>\n      <td>Sole Survivor</td>\n      <td>NaN</td>\n      <td>Escameca</td>\n      <td>Escameca</td>\n      <td>NaN</td>\n      <td>Merica</td>\n      <td>4</td>\n      <td>7</td>\n    </tr>\n    <tr>\n      <th>30</th>\n      <td>Survivor: Cambodia</td>\n      <td>31</td>\n      <td>Jeremy Collins</td>\n      <td>433</td>\n      <td>Jeremy</td>\n      <td>37</td>\n      <td>Foxboro</td>\n      <td>Massachusetts</td>\n      <td>ESTJ</td>\n      <td>15</td>\n      <td>39</td>\n      <td>20</td>\n      <td>Sole Survivor</td>\n      <td>NaN</td>\n      <td>Bayon</td>\n      <td>Bayon</td>\n      <td>Bayon</td>\n      <td>Orkun</td>\n      <td>3</td>\n      <td>7</td>\n    </tr>\n    <tr>\n      <th>31</th>\n      <td>Survivor: Kaoh Rong</td>\n      <td>32</td>\n      <td>Michele Fitzgerald</td>\n      <td>478</td>\n      <td>Michele</td>\n      <td>24</td>\n      <td>Freehold</td>\n      <td>New Jersey</td>\n      <td>ESFP</td>\n      <td>15</td>\n      <td>39</td>\n      <td>18</td>\n      <td>Sole Survivor</td>\n      <td>NaN</td>\n      <td>Gondol</td>\n      <td>Chan Loh</td>\n      <td>NaN</td>\n      <td>Dara</td>\n      <td>1</td>\n      <td>7</td>\n    </tr>\n    <tr>\n      <th>32</th>\n      <td>Survivor: Millennials vs. Gen X</td>\n      <td>33</td>\n      <td>Adam Klein</td>\n      <td>498</td>\n      <td>Adam</td>\n      <td>25</td>\n      <td>San Francisco</td>\n      <td>California</td>\n      <td>ENTP</td>\n      <td>14</td>\n      <td>39</td>\n      <td>20</td>\n      <td>Sole Survivor</td>\n      <td>NaN</td>\n      <td>Vanua</td>\n      <td>Takali</td>\n      <td>NaN</td>\n      <td>Vinaka</td>\n      <td>6</td>\n      <td>6</td>\n    </tr>\n    <tr>\n      <th>33</th>\n      <td>Survivor: Game Changers</td>\n      <td>34</td>\n      <td>Sarah Lacina</td>\n      <td>414</td>\n      <td>Sarah</td>\n      <td>32</td>\n      <td>Marion</td>\n      <td>Iowa</td>\n      <td>ENTJ</td>\n      <td>14</td>\n      <td>39</td>\n      <td>20</td>\n      <td>Sole Survivor</td>\n      <td>NaN</td>\n      <td>Nuku</td>\n      <td>Tavua</td>\n      <td>NaN</td>\n      <td>Maku Maku</td>\n      <td>0</td>\n      <td>4</td>\n    </tr>\n    <tr>\n      <th>34</th>\n      <td>Survivor: Heroes vs. Healers vs. Hustlers</td>\n      <td>35</td>\n      <td>Ben Driebergen</td>\n      <td>516</td>\n      <td>Ben</td>\n      <td>34</td>\n      <td>Boise</td>\n      <td>Idaho</td>\n      <td>ESFP</td>\n      <td>14</td>\n      <td>39</td>\n      <td>18</td>\n      <td>Sole Survivor</td>\n      <td>NaN</td>\n      <td>Levu</td>\n      <td>Yawa</td>\n      <td>NaN</td>\n      <td>Solewa</td>\n      <td>11</td>\n      <td>4</td>\n    </tr>\n    <tr>\n      <th>35</th>\n      <td>Survivor: Ghost Island</td>\n      <td>36</td>\n      <td>Wendell Holland</td>\n      <td>536</td>\n      <td>Wendell</td>\n      <td>33</td>\n      <td>Philadelphia</td>\n      <td>Pennsylvania</td>\n      <td>INFJ</td>\n      <td>14</td>\n      <td>39</td>\n      <td>20</td>\n      <td>Sole Survivor</td>\n      <td>NaN</td>\n      <td>Naviti</td>\n      <td>Naviti</td>\n      <td>Yanuya</td>\n      <td>Lavita</td>\n      <td>5</td>\n      <td>8</td>\n    </tr>\n    <tr>\n      <th>36</th>\n      <td>Survivor: David vs. Goliath</td>\n      <td>37</td>\n      <td>Nick Wilson</td>\n      <td>556</td>\n      <td>Nick</td>\n      <td>27</td>\n      <td>Williamsburg</td>\n      <td>Kentucky</td>\n      <td>ENTP</td>\n      <td>14</td>\n      <td>39</td>\n      <td>20</td>\n      <td>Sole Survivor</td>\n      <td>NaN</td>\n      <td>David</td>\n      <td>Jabeni</td>\n      <td>NaN</td>\n      <td>Kalokalo</td>\n      <td>0</td>\n      <td>4</td>\n    </tr>\n    <tr>\n      <th>37</th>\n      <td>Survivor: Edge of Extinction</td>\n      <td>38</td>\n      <td>Chris Underwood</td>\n      <td>559</td>\n      <td>Chris</td>\n      <td>25</td>\n      <td>Greenville</td>\n      <td>South Carolina</td>\n      <td>ENTP</td>\n      <td>14</td>\n      <td>39</td>\n      <td>20</td>\n      <td>Sole Survivor</td>\n      <td>NaN</td>\n      <td>Manu</td>\n      <td>NaN</td>\n      <td>NaN</td>\n      <td>Vata</td>\n      <td>9</td>\n      <td>1</td>\n    </tr>\n    <tr>\n      <th>38</th>\n      <td>Survivor: Island of the Idols</td>\n      <td>39</td>\n      <td>Tommy Sheehan</td>\n      <td>590</td>\n      <td>Tommy</td>\n      <td>26</td>\n      <td>Long Beach</td>\n      <td>New York</td>\n      <td>ENFJ</td>\n      <td>14</td>\n      <td>39</td>\n      <td>20</td>\n      <td>Sole Survivor</td>\n      <td>NaN</td>\n      <td>Vokai</td>\n      <td>Vokai</td>\n      <td>NaN</td>\n      <td>Lumuwaku</td>\n      <td>2</td>\n      <td>6</td>\n    </tr>\n    <tr>\n      <th>39</th>\n      <td>Survivor: Winners at War</td>\n      <td>40</td>\n      <td>Tony Vlachos</td>\n      <td>424</td>\n      <td>Tony</td>\n      <td>45</td>\n      <td>Allendale</td>\n      <td>New Jersey</td>\n      <td>ESTP</td>\n      <td>15</td>\n      <td>39</td>\n      <td>22</td>\n      <td>Sole Survivor</td>\n      <td>NaN</td>\n      <td>Dakal</td>\n      <td>Dakal</td>\n      <td>NaN</td>\n      <td>Koru</td>\n      <td>0</td>\n      <td>9</td>\n    </tr>\n    <tr>\n      <th>40</th>\n      <td>Survivor: 41</td>\n      <td>41</td>\n      <td>Erika Casupanan</td>\n      <td>594</td>\n      <td>Erika</td>\n      <td>32</td>\n      <td>Toronta</td>\n      <td>Ontario</td>\n      <td>ENFP</td>\n      <td>13</td>\n      <td>26</td>\n      <td>18</td>\n      <td>Sole Survivor</td>\n      <td>NaN</td>\n      <td>Luvu</td>\n      <td>NaN</td>\n      <td>NaN</td>\n      <td>Via Kana</td>\n      <td>2</td>\n      <td>8</td>\n    </tr>\n  </tbody>\n</table>\n</div>"
     },
     "execution_count": 6,
     "metadata": {},
     "output_type": "execute_result"
    }
   ],
   "source": [
    "# Creating the sole_survivor DF\n",
    "Q4 = sole_survivor = castaways[castaways['result'] == 'Sole Survivor'].copy()\n",
    "\n",
    "# Sorting by season number and resetting the index\n",
    "Q4.sort_values(by='season', inplace=True)\n",
    "Q4.reset_index(drop=True, inplace=True)\n",
    "\n",
    "# Display the DataFrame\n",
    "Q4"
   ]
  },
  {
   "cell_type": "markdown",
   "metadata": {},
   "source": [
    "**Q5:** Have any contestants won more than one time?  If so, select their records from the `sole_survivor` DataFrame, sorting the rows by season.  Save this as `Q5`.  If no contestant has won twice, save `Q5` as the string `None`."
   ]
  },
  {
   "cell_type": "code",
   "execution_count": 7,
   "metadata": {
    "ExecuteTime": {
     "end_time": "2023-12-08T09:43:28.936748Z",
     "start_time": "2023-12-08T09:43:26.662002Z"
    }
   },
   "outputs": [
    {
     "data": {
      "text/plain": "                      season_name  season          full_name  castaway_id  \\\n6         Survivor: Pearl Islands       7  Sandra Diaz-Twine          112   \n19  Survivor: Heroes vs. Villains      20  Sandra Diaz-Twine          112   \n27              Survivor: Cagayan      28       Tony Vlachos          424   \n39       Survivor: Winners at War      40       Tony Vlachos          424   \n\n   castaway  age          city           state personality_type  episode  day  \\\n6    Sandra   29    Fort Lewis      Washington             ESTP       15   39   \n19   Sandra   35  Fayetteville  North Carolina             ESTP       15   39   \n27     Tony   39   Jersey City      New Jersey             ESTP       14   39   \n39     Tony   45     Allendale      New Jersey             ESTP       15   39   \n\n    order         result jury_status original_tribe swapped_tribe  \\\n6      18  Sole Survivor         NaN          Drake         Drake   \n19     20  Sole Survivor         NaN       Villains           NaN   \n27     18  Sole Survivor         NaN         Aparri        Solana   \n39     22  Sole Survivor         NaN          Dakal         Dakal   \n\n   swapped_tribe_2 merged_tribe  total_votes_received  immunity_idols_won  \n6              NaN       Balboa                     0                   3  \n19             NaN     Yin Yang                     3                   4  \n27             NaN    Solarrion                     5                   6  \n39             NaN         Koru                     0                   9  ",
      "text/html": "<div>\n<style scoped>\n    .dataframe tbody tr th:only-of-type {\n        vertical-align: middle;\n    }\n\n    .dataframe tbody tr th {\n        vertical-align: top;\n    }\n\n    .dataframe thead th {\n        text-align: right;\n    }\n</style>\n<table border=\"1\" class=\"dataframe\">\n  <thead>\n    <tr style=\"text-align: right;\">\n      <th></th>\n      <th>season_name</th>\n      <th>season</th>\n      <th>full_name</th>\n      <th>castaway_id</th>\n      <th>castaway</th>\n      <th>age</th>\n      <th>city</th>\n      <th>state</th>\n      <th>personality_type</th>\n      <th>episode</th>\n      <th>day</th>\n      <th>order</th>\n      <th>result</th>\n      <th>jury_status</th>\n      <th>original_tribe</th>\n      <th>swapped_tribe</th>\n      <th>swapped_tribe_2</th>\n      <th>merged_tribe</th>\n      <th>total_votes_received</th>\n      <th>immunity_idols_won</th>\n    </tr>\n  </thead>\n  <tbody>\n    <tr>\n      <th>6</th>\n      <td>Survivor: Pearl Islands</td>\n      <td>7</td>\n      <td>Sandra Diaz-Twine</td>\n      <td>112</td>\n      <td>Sandra</td>\n      <td>29</td>\n      <td>Fort Lewis</td>\n      <td>Washington</td>\n      <td>ESTP</td>\n      <td>15</td>\n      <td>39</td>\n      <td>18</td>\n      <td>Sole Survivor</td>\n      <td>NaN</td>\n      <td>Drake</td>\n      <td>Drake</td>\n      <td>NaN</td>\n      <td>Balboa</td>\n      <td>0</td>\n      <td>3</td>\n    </tr>\n    <tr>\n      <th>19</th>\n      <td>Survivor: Heroes vs. Villains</td>\n      <td>20</td>\n      <td>Sandra Diaz-Twine</td>\n      <td>112</td>\n      <td>Sandra</td>\n      <td>35</td>\n      <td>Fayetteville</td>\n      <td>North Carolina</td>\n      <td>ESTP</td>\n      <td>15</td>\n      <td>39</td>\n      <td>20</td>\n      <td>Sole Survivor</td>\n      <td>NaN</td>\n      <td>Villains</td>\n      <td>NaN</td>\n      <td>NaN</td>\n      <td>Yin Yang</td>\n      <td>3</td>\n      <td>4</td>\n    </tr>\n    <tr>\n      <th>27</th>\n      <td>Survivor: Cagayan</td>\n      <td>28</td>\n      <td>Tony Vlachos</td>\n      <td>424</td>\n      <td>Tony</td>\n      <td>39</td>\n      <td>Jersey City</td>\n      <td>New Jersey</td>\n      <td>ESTP</td>\n      <td>14</td>\n      <td>39</td>\n      <td>18</td>\n      <td>Sole Survivor</td>\n      <td>NaN</td>\n      <td>Aparri</td>\n      <td>Solana</td>\n      <td>NaN</td>\n      <td>Solarrion</td>\n      <td>5</td>\n      <td>6</td>\n    </tr>\n    <tr>\n      <th>39</th>\n      <td>Survivor: Winners at War</td>\n      <td>40</td>\n      <td>Tony Vlachos</td>\n      <td>424</td>\n      <td>Tony</td>\n      <td>45</td>\n      <td>Allendale</td>\n      <td>New Jersey</td>\n      <td>ESTP</td>\n      <td>15</td>\n      <td>39</td>\n      <td>22</td>\n      <td>Sole Survivor</td>\n      <td>NaN</td>\n      <td>Dakal</td>\n      <td>Dakal</td>\n      <td>NaN</td>\n      <td>Koru</td>\n      <td>0</td>\n      <td>9</td>\n    </tr>\n  </tbody>\n</table>\n</div>"
     },
     "execution_count": 7,
     "metadata": {},
     "output_type": "execute_result"
    }
   ],
   "source": [
    "# Identify contestants with multiple wins\n",
    "multi_win_ids = sole_survivor['castaway_id'].value_counts()\n",
    "multi_win_ids = multi_win_ids[multi_win_ids > 1].index\n",
    "\n",
    "# Retrieve records of multiple winners or set Q5 to 'None' if none exist\n",
    "Q5 = (sole_survivor[sole_survivor['castaway_id'].isin(multi_win_ids)].sort_values(by='season')\n",
    "      if len(multi_win_ids) > 0 else \"None\")\n",
    "\n",
    "# Display the result\n",
    "Q5"
   ]
  },
  {
   "cell_type": "markdown",
   "metadata": {},
   "source": [
    "**Q6:** What is the average age of contestants when they appeared on the show?  Save this as `Q6`.  Round to nearest integer."
   ]
  },
  {
   "cell_type": "code",
   "execution_count": 8,
   "metadata": {
    "ExecuteTime": {
     "end_time": "2023-12-08T09:43:28.936941Z",
     "start_time": "2023-12-08T09:43:26.664530Z"
    }
   },
   "outputs": [
    {
     "data": {
      "text/plain": "33"
     },
     "execution_count": 8,
     "metadata": {},
     "output_type": "execute_result"
    }
   ],
   "source": [
    "# Calculate the average age at first appearance and round to nearest int\n",
    "Q6 = round(castaways.sort_values(by=['castaway_id', 'season'])\n",
    "           .drop_duplicates(subset=['castaway_id'])['age'].mean())\n",
    "\n",
    "# Display the result\n",
    "Q6"
   ]
  },
  {
   "cell_type": "markdown",
   "metadata": {},
   "source": [
    "**Q7:** Who played the most total number of days of Survivor? If a contestant appeared on more than one season, you would add their total days for each season together. Save the top five contestants in terms of total days played as a DataFrame and call it `Q7`, sorted in descending order by total days played.  \n",
    "\n",
    "The following columns should be included: `castaway_id`, `full_name`, and `total_days_played` where `total_days_played` is the sum of all days a contestant played. The index should go from 0 to n-1.\n",
    "\n",
    "Note:  Be careful because on some seasons, the contestant was allowed to come back into the game after being voted off.  Take a look at [Season 23's contestant Oscar Lusth](https://en.wikipedia.org/wiki/Ozzy_Lusth#South_Pacific) in the `castaways` DataFrame as an example.  He was voted out 7th and then returned to the game.  He was then voted out 9th and returned to the game a second time.  He was then voted out 17th the final time.  Be aware of this in your calculations and make sure you are counting the days according to the last time they were voted off or won. "
   ]
  },
  {
   "cell_type": "code",
   "execution_count": 9,
   "metadata": {
    "ExecuteTime": {
     "end_time": "2023-12-08T09:43:28.937151Z",
     "start_time": "2023-12-08T09:43:26.669051Z"
    }
   },
   "outputs": [
    {
     "data": {
      "text/plain": "   castaway_id          full_name  total_days_played\n0           55        Rob Mariano                131\n1          197    Parvati Shallow                130\n2          201        Oscar Lusth                128\n3          179       Cirie Fields                121\n4          112  Sandra Diaz-Twine                110",
      "text/html": "<div>\n<style scoped>\n    .dataframe tbody tr th:only-of-type {\n        vertical-align: middle;\n    }\n\n    .dataframe tbody tr th {\n        vertical-align: top;\n    }\n\n    .dataframe thead th {\n        text-align: right;\n    }\n</style>\n<table border=\"1\" class=\"dataframe\">\n  <thead>\n    <tr style=\"text-align: right;\">\n      <th></th>\n      <th>castaway_id</th>\n      <th>full_name</th>\n      <th>total_days_played</th>\n    </tr>\n  </thead>\n  <tbody>\n    <tr>\n      <th>0</th>\n      <td>55</td>\n      <td>Rob Mariano</td>\n      <td>131</td>\n    </tr>\n    <tr>\n      <th>1</th>\n      <td>197</td>\n      <td>Parvati Shallow</td>\n      <td>130</td>\n    </tr>\n    <tr>\n      <th>2</th>\n      <td>201</td>\n      <td>Oscar Lusth</td>\n      <td>128</td>\n    </tr>\n    <tr>\n      <th>3</th>\n      <td>179</td>\n      <td>Cirie Fields</td>\n      <td>121</td>\n    </tr>\n    <tr>\n      <th>4</th>\n      <td>112</td>\n      <td>Sandra Diaz-Twine</td>\n      <td>110</td>\n    </tr>\n  </tbody>\n</table>\n</div>"
     },
     "execution_count": 9,
     "metadata": {},
     "output_type": "execute_result"
    }
   ],
   "source": [
    "# Grouping by both 'castaway_id' and 'season' to get the maximum 'day' for each contestant in each season\n",
    "max_days_per_season = castaways.groupby(['castaway_id', 'season'])['day'].max().reset_index()\n",
    "\n",
    "# Summing these maximum day values across all seasons for each contestant\n",
    "total_days_played = max_days_per_season.groupby('castaway_id')['day'].sum().reset_index()\n",
    "\n",
    "# Merging with castaway details to get the full names\n",
    "total_days_played = total_days_played.merge(castaway_details[['castaway_id', 'full_name']], on='castaway_id')\n",
    "\n",
    "# Renaming the 'day' column to 'total_days_played' and sorting the results in descending order\n",
    "total_days_played = total_days_played.rename(columns={'day': 'total_days_played'})\n",
    "total_days_played = total_days_played.sort_values(by='total_days_played', ascending=False)\n",
    "\n",
    "# Selecting the top five contestants\n",
    "Q7 = total_days_played.head(5).reset_index(drop=True)\n",
    "Q7 = Q7[['castaway_id', 'full_name', 'total_days_played']]\n",
    "Q7"
   ]
  },
  {
   "cell_type": "markdown",
   "metadata": {},
   "source": [
    "**Q8A & Q8B**: Using the `castaway_details` data, what is the percentage of total extroverts and introverts that have played the game (count players only once even if they have played in more than one season).  Do not count contestants without a personality type listed in your calculations.  Save these percentages as `Q8A` and `Q8B` respectively.  Note: Round all percentages to two decimal points and write as a float (example: 55.57).  \n",
    "\n",
    "For more information on personality types check this [Wikipedia article](https://en.wikipedia.org/wiki/Myers%E2%80%93Briggs_Type_Indicator)."
   ]
  },
  {
   "cell_type": "code",
   "execution_count": 10,
   "metadata": {
    "ExecuteTime": {
     "end_time": "2023-12-08T09:43:28.937329Z",
     "start_time": "2023-12-08T09:43:26.677889Z"
    }
   },
   "outputs": [
    {
     "data": {
      "text/plain": "53.63"
     },
     "execution_count": 10,
     "metadata": {},
     "output_type": "execute_result"
    }
   ],
   "source": [
    "# Filtering out contestants without a personality type listed\n",
    "castaways_with_personality = castaway_details.dropna(subset=['personality_type'])\n",
    "\n",
    "# Counting the number of extroverts\n",
    "extroverts_count = castaways_with_personality['personality_type'].str.startswith('E').sum()\n",
    "\n",
    "# Calculating the total count of contestants with a personality type listed\n",
    "total_count = len(castaways_with_personality)\n",
    "\n",
    "# Calculating the percentages\n",
    "Q8A = round((extroverts_count / total_count) * 100, 2)\n",
    "\n",
    "# Display the DF\n",
    "Q8A"
   ]
  },
  {
   "cell_type": "code",
   "execution_count": 11,
   "metadata": {
    "ExecuteTime": {
     "end_time": "2023-12-08T09:43:28.937480Z",
     "start_time": "2023-12-08T09:43:26.680997Z"
    }
   },
   "outputs": [
    {
     "data": {
      "text/plain": "46.37"
     },
     "execution_count": 11,
     "metadata": {},
     "output_type": "execute_result"
    }
   ],
   "source": [
    "# Counting the number of introverts\n",
    "introverts_count = castaways_with_personality['personality_type'].str.startswith('I').sum()\n",
    "\n",
    "# Calculating the percentages\n",
    "Q8B = round((introverts_count / total_count) * 100, 2)\n",
    "\n",
    "# Display the DF\n",
    "Q8B"
   ]
  },
  {
   "cell_type": "markdown",
   "metadata": {},
   "source": [
    "**Q9A & Q9B**: Now that we know the percentages of total players that are extroverted and introverted, let's see if that made a difference in terms of who actually won their season.\n",
    "\n",
    "What is the percentage of total extroverts and introverts that have won the game (count players only once even if they have won more than one season)?  Save these percentages as `Q9A` and `Q9B` respectively.  Note: Round all percentages to two decimal points and write as a float (example: 55.57)."
   ]
  },
  {
   "cell_type": "code",
   "execution_count": 12,
   "metadata": {
    "ExecuteTime": {
     "end_time": "2023-12-08T09:43:28.937638Z",
     "start_time": "2023-12-08T09:43:26.683886Z"
    }
   },
   "outputs": [
    {
     "data": {
      "text/plain": "61.54"
     },
     "execution_count": 12,
     "metadata": {},
     "output_type": "execute_result"
    }
   ],
   "source": [
    "# Identify winners with personality types\n",
    "winners = castaways[castaways['result'] == 'Sole Survivor']['castaway_id'].unique()\n",
    "winners_personality = castaway_details[castaway_details['castaway_id'].isin(winners)]['personality_type'].dropna()\n",
    "\n",
    "# Count and calculate percentages for extrovert and introvert winners\n",
    "extrovert_count = winners_personality.str.startswith('E').sum()\n",
    "introvert_count = winners_personality.str.startswith('I').sum()\n",
    "total_winners = len(winners_personality)\n",
    "\n",
    "Q9A = round((extrovert_count / total_winners) * 100, 2)  # Extrovert winners percentage\n",
    "\n",
    "# Display the DF\n",
    "Q9A"
   ]
  },
  {
   "cell_type": "code",
   "execution_count": 13,
   "metadata": {
    "ExecuteTime": {
     "end_time": "2023-12-08T09:43:28.937801Z",
     "start_time": "2023-12-08T09:43:26.687248Z"
    }
   },
   "outputs": [
    {
     "data": {
      "text/plain": "38.46"
     },
     "execution_count": 13,
     "metadata": {},
     "output_type": "execute_result"
    }
   ],
   "source": [
    "Q9B = round((introvert_count / total_winners) * 100, 2)  # Introvert winners percentage\n",
    "\n",
    "# Display the DF\n",
    "Q9B"
   ]
  },
  {
   "cell_type": "markdown",
   "metadata": {},
   "source": [
    "**Q10:** Which contestants have never received a tribal council vote (i.e. a vote to be voted out of the game as shown in the `vote_id` column in the `vote_history` DataFrame)? Note that there are various reasons for a contestant to not receive a tribal vote: they quit, made it to the end, medical emergency, etc.  Select their rows from the `castaway_details` DataFrame and save this as `Q10` in ascending order by `castaway_id`.  This should return a DataFrame and the index and missing values should be left as is."
   ]
  },
  {
   "cell_type": "code",
   "execution_count": 14,
   "metadata": {
    "ExecuteTime": {
     "end_time": "2023-12-08T09:43:28.938204Z",
     "start_time": "2023-12-08T09:43:26.689790Z"
    }
   },
   "outputs": [
    {
     "data": {
      "text/plain": "     castaway_id          full_name    short_name date_of_birth date_of_death  \\\n21            22     Michael Skupin       Michael    1962-01-29           NaT   \n60            61    Paschal English       Paschal    1945-03-05           NaT   \n79            80       Brian Heidik         Brian    1968-03-09           NaT   \n130          131     Jonathan Libby      Jonathan    1981-09-05           NaT   \n131          132        Wanda Shirk         Wanda    1949-08-24           NaT   \n205          206     Gary Stritesky          Gary    1951-09-16           NaT   \n241          242  Kathleen Sleckman         Kathy    1962-08-14           NaT   \n282          283       Mike Borassi          Mike    1947-03-13           NaT   \n313          314        Kelly Shinn  Purple Kelly    1990-05-05           NaT   \n353          354      Kourtney Moon      Kourtney    1982-02-27           NaT   \n374          375       Dana Lambert          Dana    1979-12-13           NaT   \n384          385      Lisa Whelchel          Lisa    1963-05-29           NaT   \n411          412       Lindsey Ogle       Lindsey    1983-09-04           NaT   \n467          468      Neal Gottlieb          Neal    1977-02-03           NaT   \n536          537         Pat Cusack           Pat    1977-02-25           NaT   \n539          540          Bi Nguyen            Bi    1989-10-30           NaT   \n552          553           Kara Kay          Kara    1987-11-20           NaT   \n569          570      Gavin Whitson         Gavin    1994-07-20           NaT   \n\n     gender   race ethnicity  \\\n21     Male    NaN       NaN   \n60     Male    NaN       NaN   \n79     Male    NaN       NaN   \n130    Male    NaN       NaN   \n131  Female    NaN       NaN   \n205    Male    NaN       NaN   \n241  Female    NaN       NaN   \n282    Male    NaN       NaN   \n313  Female    NaN       NaN   \n353  Female    NaN       NaN   \n374  Female    NaN       NaN   \n384  Female    NaN       NaN   \n411  Female    NaN       NaN   \n467    Male    NaN       NaN   \n536    Male    NaN       NaN   \n539  Female  Asian       NaN   \n552  Female    NaN       NaN   \n569    Male    NaN       NaN   \n\n                                            occupation personality_type  \n21   Software Publisher;Part-Time Professional Speaker             ESFJ  \n60                                               Judge             ISFJ  \n79                                   Used Car Salesman             ISTP  \n130                        Sales & Marketing Associate             ISTP  \n131                                    English Teacher             ENFP  \n205                                  School Bus Driver             ISFJ  \n241                                 Golf Course Vendor             ENFP  \n282                                      Personal Chef             ESTP  \n313                                    Nursing Student             ENFP  \n353                                  Motorcycle Repair             ISFP  \n374                                      Cosmetologist             ISTP  \n384                                Former TV Teen Star             INFP  \n411                                        Hairstylist             ESFP  \n467                             Ice Cream Entrepreneur             INTP  \n536                                Maintenance Manager             ESTP  \n539                                        MMA Fighter             ISFP  \n552                                            Realtor             ENFJ  \n569                              YMCA Program Director             ISFJ  ",
      "text/html": "<div>\n<style scoped>\n    .dataframe tbody tr th:only-of-type {\n        vertical-align: middle;\n    }\n\n    .dataframe tbody tr th {\n        vertical-align: top;\n    }\n\n    .dataframe thead th {\n        text-align: right;\n    }\n</style>\n<table border=\"1\" class=\"dataframe\">\n  <thead>\n    <tr style=\"text-align: right;\">\n      <th></th>\n      <th>castaway_id</th>\n      <th>full_name</th>\n      <th>short_name</th>\n      <th>date_of_birth</th>\n      <th>date_of_death</th>\n      <th>gender</th>\n      <th>race</th>\n      <th>ethnicity</th>\n      <th>occupation</th>\n      <th>personality_type</th>\n    </tr>\n  </thead>\n  <tbody>\n    <tr>\n      <th>21</th>\n      <td>22</td>\n      <td>Michael Skupin</td>\n      <td>Michael</td>\n      <td>1962-01-29</td>\n      <td>NaT</td>\n      <td>Male</td>\n      <td>NaN</td>\n      <td>NaN</td>\n      <td>Software Publisher;Part-Time Professional Speaker</td>\n      <td>ESFJ</td>\n    </tr>\n    <tr>\n      <th>60</th>\n      <td>61</td>\n      <td>Paschal English</td>\n      <td>Paschal</td>\n      <td>1945-03-05</td>\n      <td>NaT</td>\n      <td>Male</td>\n      <td>NaN</td>\n      <td>NaN</td>\n      <td>Judge</td>\n      <td>ISFJ</td>\n    </tr>\n    <tr>\n      <th>79</th>\n      <td>80</td>\n      <td>Brian Heidik</td>\n      <td>Brian</td>\n      <td>1968-03-09</td>\n      <td>NaT</td>\n      <td>Male</td>\n      <td>NaN</td>\n      <td>NaN</td>\n      <td>Used Car Salesman</td>\n      <td>ISTP</td>\n    </tr>\n    <tr>\n      <th>130</th>\n      <td>131</td>\n      <td>Jonathan Libby</td>\n      <td>Jonathan</td>\n      <td>1981-09-05</td>\n      <td>NaT</td>\n      <td>Male</td>\n      <td>NaN</td>\n      <td>NaN</td>\n      <td>Sales &amp; Marketing Associate</td>\n      <td>ISTP</td>\n    </tr>\n    <tr>\n      <th>131</th>\n      <td>132</td>\n      <td>Wanda Shirk</td>\n      <td>Wanda</td>\n      <td>1949-08-24</td>\n      <td>NaT</td>\n      <td>Female</td>\n      <td>NaN</td>\n      <td>NaN</td>\n      <td>English Teacher</td>\n      <td>ENFP</td>\n    </tr>\n    <tr>\n      <th>205</th>\n      <td>206</td>\n      <td>Gary Stritesky</td>\n      <td>Gary</td>\n      <td>1951-09-16</td>\n      <td>NaT</td>\n      <td>Male</td>\n      <td>NaN</td>\n      <td>NaN</td>\n      <td>School Bus Driver</td>\n      <td>ISFJ</td>\n    </tr>\n    <tr>\n      <th>241</th>\n      <td>242</td>\n      <td>Kathleen Sleckman</td>\n      <td>Kathy</td>\n      <td>1962-08-14</td>\n      <td>NaT</td>\n      <td>Female</td>\n      <td>NaN</td>\n      <td>NaN</td>\n      <td>Golf Course Vendor</td>\n      <td>ENFP</td>\n    </tr>\n    <tr>\n      <th>282</th>\n      <td>283</td>\n      <td>Mike Borassi</td>\n      <td>Mike</td>\n      <td>1947-03-13</td>\n      <td>NaT</td>\n      <td>Male</td>\n      <td>NaN</td>\n      <td>NaN</td>\n      <td>Personal Chef</td>\n      <td>ESTP</td>\n    </tr>\n    <tr>\n      <th>313</th>\n      <td>314</td>\n      <td>Kelly Shinn</td>\n      <td>Purple Kelly</td>\n      <td>1990-05-05</td>\n      <td>NaT</td>\n      <td>Female</td>\n      <td>NaN</td>\n      <td>NaN</td>\n      <td>Nursing Student</td>\n      <td>ENFP</td>\n    </tr>\n    <tr>\n      <th>353</th>\n      <td>354</td>\n      <td>Kourtney Moon</td>\n      <td>Kourtney</td>\n      <td>1982-02-27</td>\n      <td>NaT</td>\n      <td>Female</td>\n      <td>NaN</td>\n      <td>NaN</td>\n      <td>Motorcycle Repair</td>\n      <td>ISFP</td>\n    </tr>\n    <tr>\n      <th>374</th>\n      <td>375</td>\n      <td>Dana Lambert</td>\n      <td>Dana</td>\n      <td>1979-12-13</td>\n      <td>NaT</td>\n      <td>Female</td>\n      <td>NaN</td>\n      <td>NaN</td>\n      <td>Cosmetologist</td>\n      <td>ISTP</td>\n    </tr>\n    <tr>\n      <th>384</th>\n      <td>385</td>\n      <td>Lisa Whelchel</td>\n      <td>Lisa</td>\n      <td>1963-05-29</td>\n      <td>NaT</td>\n      <td>Female</td>\n      <td>NaN</td>\n      <td>NaN</td>\n      <td>Former TV Teen Star</td>\n      <td>INFP</td>\n    </tr>\n    <tr>\n      <th>411</th>\n      <td>412</td>\n      <td>Lindsey Ogle</td>\n      <td>Lindsey</td>\n      <td>1983-09-04</td>\n      <td>NaT</td>\n      <td>Female</td>\n      <td>NaN</td>\n      <td>NaN</td>\n      <td>Hairstylist</td>\n      <td>ESFP</td>\n    </tr>\n    <tr>\n      <th>467</th>\n      <td>468</td>\n      <td>Neal Gottlieb</td>\n      <td>Neal</td>\n      <td>1977-02-03</td>\n      <td>NaT</td>\n      <td>Male</td>\n      <td>NaN</td>\n      <td>NaN</td>\n      <td>Ice Cream Entrepreneur</td>\n      <td>INTP</td>\n    </tr>\n    <tr>\n      <th>536</th>\n      <td>537</td>\n      <td>Pat Cusack</td>\n      <td>Pat</td>\n      <td>1977-02-25</td>\n      <td>NaT</td>\n      <td>Male</td>\n      <td>NaN</td>\n      <td>NaN</td>\n      <td>Maintenance Manager</td>\n      <td>ESTP</td>\n    </tr>\n    <tr>\n      <th>539</th>\n      <td>540</td>\n      <td>Bi Nguyen</td>\n      <td>Bi</td>\n      <td>1989-10-30</td>\n      <td>NaT</td>\n      <td>Female</td>\n      <td>Asian</td>\n      <td>NaN</td>\n      <td>MMA Fighter</td>\n      <td>ISFP</td>\n    </tr>\n    <tr>\n      <th>552</th>\n      <td>553</td>\n      <td>Kara Kay</td>\n      <td>Kara</td>\n      <td>1987-11-20</td>\n      <td>NaT</td>\n      <td>Female</td>\n      <td>NaN</td>\n      <td>NaN</td>\n      <td>Realtor</td>\n      <td>ENFJ</td>\n    </tr>\n    <tr>\n      <th>569</th>\n      <td>570</td>\n      <td>Gavin Whitson</td>\n      <td>Gavin</td>\n      <td>1994-07-20</td>\n      <td>NaT</td>\n      <td>Male</td>\n      <td>NaN</td>\n      <td>NaN</td>\n      <td>YMCA Program Director</td>\n      <td>ISFJ</td>\n    </tr>\n  </tbody>\n</table>\n</div>"
     },
     "execution_count": 14,
     "metadata": {},
     "output_type": "execute_result"
    }
   ],
   "source": [
    "# Identifying contestants who have never received a tribal council vote\n",
    "castaways_with_vote = vote_history['vote_id'].unique()\n",
    "Q10 = castaway_details[~castaway_details['castaway_id'].isin(castaways_with_vote)].sort_values(by='castaway_id')\n",
    "\n",
    "# Display the DF\n",
    "Q10"
   ]
  },
  {
   "cell_type": "markdown",
   "metadata": {},
   "source": [
    "**Q11:** What contestant has won the most number of challenges?  Select their row from the `castaway_details` DataFrame and save this as `Q11`.  This should return a DataFrame and the index and missing values should be left as is."
   ]
  },
  {
   "cell_type": "code",
   "execution_count": 15,
   "metadata": {
    "ExecuteTime": {
     "end_time": "2023-12-08T09:43:28.938420Z",
     "start_time": "2023-12-08T09:43:26.698165Z"
    }
   },
   "outputs": [
    {
     "data": {
      "text/plain": "     castaway_id    full_name short_name date_of_birth date_of_death gender  \\\n200          201  Oscar Lusth       Ozzy    1981-08-23           NaT   Male   \n\n                 race           ethnicity           occupation  \\\n200  Mexican American  Hispanic or Latino  Waiter;Photographer   \n\n    personality_type  \n200             ISFP  ",
      "text/html": "<div>\n<style scoped>\n    .dataframe tbody tr th:only-of-type {\n        vertical-align: middle;\n    }\n\n    .dataframe tbody tr th {\n        vertical-align: top;\n    }\n\n    .dataframe thead th {\n        text-align: right;\n    }\n</style>\n<table border=\"1\" class=\"dataframe\">\n  <thead>\n    <tr style=\"text-align: right;\">\n      <th></th>\n      <th>castaway_id</th>\n      <th>full_name</th>\n      <th>short_name</th>\n      <th>date_of_birth</th>\n      <th>date_of_death</th>\n      <th>gender</th>\n      <th>race</th>\n      <th>ethnicity</th>\n      <th>occupation</th>\n      <th>personality_type</th>\n    </tr>\n  </thead>\n  <tbody>\n    <tr>\n      <th>200</th>\n      <td>201</td>\n      <td>Oscar Lusth</td>\n      <td>Ozzy</td>\n      <td>1981-08-23</td>\n      <td>NaT</td>\n      <td>Male</td>\n      <td>Mexican American</td>\n      <td>Hispanic or Latino</td>\n      <td>Waiter;Photographer</td>\n      <td>ISFP</td>\n    </tr>\n  </tbody>\n</table>\n</div>"
     },
     "execution_count": 15,
     "metadata": {},
     "output_type": "execute_result"
    }
   ],
   "source": [
    "# Counting the number of wins \n",
    "challenge_wins = challenge_results['winner_id'].value_counts()\n",
    "\n",
    "# Finding the castaway_id with the maximum number of wins\n",
    "max_wins_castaway_id = challenge_wins.idxmax()\n",
    "\n",
    "# Selecting the row of this contestant from castaway_details\n",
    "Q11 = castaway_details[castaway_details['castaway_id'] == max_wins_castaway_id]\n",
    "\n",
    "# Display the DF\n",
    "Q11"
   ]
  },
  {
   "cell_type": "markdown",
   "metadata": {},
   "source": [
    "**Q12:** Let's see how many winners ended up getting unanimous jury votes to win the game.  Create a Dataframe that shows the survivors that got unanimous jury votes with these columns in the final output: `season`, `season_name`, `winner_id`, `full_name`.  The DataFrame should be sorted by season and the index should go from 0 to n-1.  Save this as `Q12`. "
   ]
  },
  {
   "cell_type": "code",
   "execution_count": 16,
   "metadata": {
    "ExecuteTime": {
     "end_time": "2023-12-08T09:43:28.938647Z",
     "start_time": "2023-12-08T09:43:26.701650Z"
    }
   },
   "outputs": [
    {
     "data": {
      "text/plain": "   season                      season_name  winner_id         full_name\n0      14                   Survivor: Fiji        221         Earl Cole\n1      18              Survivor: Tocantins        281  James Thomas Jr.\n2      26               Survivor: Caramoan        348      John Cochran\n3      31               Survivor: Cambodia        433    Jeremy Collins\n4      33  Survivor: Millennials vs. Gen X        498        Adam Klein",
      "text/html": "<div>\n<style scoped>\n    .dataframe tbody tr th:only-of-type {\n        vertical-align: middle;\n    }\n\n    .dataframe tbody tr th {\n        vertical-align: top;\n    }\n\n    .dataframe thead th {\n        text-align: right;\n    }\n</style>\n<table border=\"1\" class=\"dataframe\">\n  <thead>\n    <tr style=\"text-align: right;\">\n      <th></th>\n      <th>season</th>\n      <th>season_name</th>\n      <th>winner_id</th>\n      <th>full_name</th>\n    </tr>\n  </thead>\n  <tbody>\n    <tr>\n      <th>0</th>\n      <td>14</td>\n      <td>Survivor: Fiji</td>\n      <td>221</td>\n      <td>Earl Cole</td>\n    </tr>\n    <tr>\n      <th>1</th>\n      <td>18</td>\n      <td>Survivor: Tocantins</td>\n      <td>281</td>\n      <td>James Thomas Jr.</td>\n    </tr>\n    <tr>\n      <th>2</th>\n      <td>26</td>\n      <td>Survivor: Caramoan</td>\n      <td>348</td>\n      <td>John Cochran</td>\n    </tr>\n    <tr>\n      <th>3</th>\n      <td>31</td>\n      <td>Survivor: Cambodia</td>\n      <td>433</td>\n      <td>Jeremy Collins</td>\n    </tr>\n    <tr>\n      <th>4</th>\n      <td>33</td>\n      <td>Survivor: Millennials vs. Gen X</td>\n      <td>498</td>\n      <td>Adam Klein</td>\n    </tr>\n  </tbody>\n</table>\n</div>"
     },
     "execution_count": 16,
     "metadata": {},
     "output_type": "execute_result"
    }
   ],
   "source": [
    "# Merge jury_votes with castaway_details to get the full name of the castaways\n",
    "merged_df = pd.merge(jury_votes, castaway_details[['castaway_id', 'full_name']], left_on='finalist_id', right_on='castaway_id')\n",
    "\n",
    "# Filtering for unanimous votes\n",
    "unanimous_votes = merged_df.groupby(['season', 'finalist_id']).filter(lambda x: x['vote'].nunique() == 1)\n",
    "\n",
    "# Filtering out only the winners using the season_summary DF\n",
    "winners_df = pd.merge(unanimous_votes, season_summary[['season', 'winner_id']], on='season')\n",
    "winners_df = winners_df[winners_df['finalist_id'] == winners_df['winner_id']]\n",
    "\n",
    "# Selecting the required columns\n",
    "result_df = winners_df[['season', 'season_name', 'winner_id', 'full_name']].drop_duplicates()\n",
    "\n",
    "# Sorting by season and resetting index\n",
    "result_df = result_df.sort_values(by='season').reset_index(drop=True)\n",
    "\n",
    "# Saving the result as Q12\n",
    "Q12 = result_df\n",
    "\n",
    "# Display the DF\n",
    "Q12"
   ]
  },
  {
   "cell_type": "markdown",
   "metadata": {},
   "source": [
    "**Q13:** For the `castaway_details` DataFrame, there is a `full_name` column and a `short_name` column.  It would be helpful for future analysis to have the contestants first and last name split into separate columns.  First copy the `castaway_details` DataFrame to a new DataFrame called `Q13` so that we do not change the original DataFrame.  \n",
    "\n",
    "Create two new columns and add the contestant's first name to a new column called `first_name` and their last name to a new column called `last_name`.  Add these columns to the `Q13` DataFrame.  Put the `first_name` and `last_name` columns between the `full_name` and `short_name` columns.\n",
    "\n",
    "Note:  Be careful as some players have last names with multiple spaces.  For example, `Lex van den Berghe`.  You should code `Lex` as his first name and `van den Berghe` as his last name."
   ]
  },
  {
   "cell_type": "code",
   "execution_count": 17,
   "metadata": {
    "ExecuteTime": {
     "end_time": "2023-12-08T09:43:28.941099Z",
     "start_time": "2023-12-08T09:43:26.713085Z"
    }
   },
   "outputs": [
    {
     "data": {
      "text/plain": "     castaway_id          full_name first_name    last_name short_name  \\\n0              1  Sonja Christopher      Sonja  Christopher      Sonja   \n1              2      B.B. Andersen       B.B.     Andersen       B.B.   \n2              3    Stacey Stillman     Stacey     Stillman     Stacey   \n3              4        Ramona Gray     Ramona         Gray     Ramona   \n4              5          Dirk Been       Dirk         Been       Dirk   \n..           ...                ...        ...          ...        ...   \n603          604      Tiffany Seely    Tiffany        Seely    Tiffany   \n604          605       Sydney Segal     Sydney        Segal     Sydney   \n605          606      Shantel Smith    Shantel        Smith       Shan   \n606          607         David Voce      David         Voce       Voce   \n607          608      Liana Wallace      Liana      Wallace      Liana   \n\n    date_of_birth date_of_death  gender   race ethnicity  \\\n0      1937-01-28           NaT  Female    NaN       NaN   \n1      1936-01-18    2013-10-29    Male    NaN       NaN   \n2      1972-08-11           NaT  Female    NaN       NaN   \n3      1971-01-20           NaT  Female  Black       NaN   \n4      1976-06-15           NaT    Male    NaN       NaN   \n..            ...           ...     ...    ...       ...   \n603    1973-12-08           NaT  Female  White    Jewish   \n604    1995-07-19           NaT  Female  White    Jewish   \n605    1987-03-11           NaT  Female  Black       NaN   \n606    1986-05-01           NaT    Male    NaN       NaN   \n607    2000-10-25           NaT  Female  Black    Jewish   \n\n                occupation personality_type  \n0                 Musician             ENFP  \n1    Real Estate Developer             ESTJ  \n2                 Attorney             ENTJ  \n3       Biochemist/Chemist             ISTJ  \n4             Dairy Farmer             ISFP  \n..                     ...              ...  \n603                Teacher             ENTP  \n604            Law Student             ESTP  \n605                 Pastor             ENFJ  \n606           Neurosurgeon             ENTJ  \n607        College Student             ESTJ  \n\n[608 rows x 12 columns]",
      "text/html": "<div>\n<style scoped>\n    .dataframe tbody tr th:only-of-type {\n        vertical-align: middle;\n    }\n\n    .dataframe tbody tr th {\n        vertical-align: top;\n    }\n\n    .dataframe thead th {\n        text-align: right;\n    }\n</style>\n<table border=\"1\" class=\"dataframe\">\n  <thead>\n    <tr style=\"text-align: right;\">\n      <th></th>\n      <th>castaway_id</th>\n      <th>full_name</th>\n      <th>first_name</th>\n      <th>last_name</th>\n      <th>short_name</th>\n      <th>date_of_birth</th>\n      <th>date_of_death</th>\n      <th>gender</th>\n      <th>race</th>\n      <th>ethnicity</th>\n      <th>occupation</th>\n      <th>personality_type</th>\n    </tr>\n  </thead>\n  <tbody>\n    <tr>\n      <th>0</th>\n      <td>1</td>\n      <td>Sonja Christopher</td>\n      <td>Sonja</td>\n      <td>Christopher</td>\n      <td>Sonja</td>\n      <td>1937-01-28</td>\n      <td>NaT</td>\n      <td>Female</td>\n      <td>NaN</td>\n      <td>NaN</td>\n      <td>Musician</td>\n      <td>ENFP</td>\n    </tr>\n    <tr>\n      <th>1</th>\n      <td>2</td>\n      <td>B.B. Andersen</td>\n      <td>B.B.</td>\n      <td>Andersen</td>\n      <td>B.B.</td>\n      <td>1936-01-18</td>\n      <td>2013-10-29</td>\n      <td>Male</td>\n      <td>NaN</td>\n      <td>NaN</td>\n      <td>Real Estate Developer</td>\n      <td>ESTJ</td>\n    </tr>\n    <tr>\n      <th>2</th>\n      <td>3</td>\n      <td>Stacey Stillman</td>\n      <td>Stacey</td>\n      <td>Stillman</td>\n      <td>Stacey</td>\n      <td>1972-08-11</td>\n      <td>NaT</td>\n      <td>Female</td>\n      <td>NaN</td>\n      <td>NaN</td>\n      <td>Attorney</td>\n      <td>ENTJ</td>\n    </tr>\n    <tr>\n      <th>3</th>\n      <td>4</td>\n      <td>Ramona Gray</td>\n      <td>Ramona</td>\n      <td>Gray</td>\n      <td>Ramona</td>\n      <td>1971-01-20</td>\n      <td>NaT</td>\n      <td>Female</td>\n      <td>Black</td>\n      <td>NaN</td>\n      <td>Biochemist/Chemist</td>\n      <td>ISTJ</td>\n    </tr>\n    <tr>\n      <th>4</th>\n      <td>5</td>\n      <td>Dirk Been</td>\n      <td>Dirk</td>\n      <td>Been</td>\n      <td>Dirk</td>\n      <td>1976-06-15</td>\n      <td>NaT</td>\n      <td>Male</td>\n      <td>NaN</td>\n      <td>NaN</td>\n      <td>Dairy Farmer</td>\n      <td>ISFP</td>\n    </tr>\n    <tr>\n      <th>...</th>\n      <td>...</td>\n      <td>...</td>\n      <td>...</td>\n      <td>...</td>\n      <td>...</td>\n      <td>...</td>\n      <td>...</td>\n      <td>...</td>\n      <td>...</td>\n      <td>...</td>\n      <td>...</td>\n      <td>...</td>\n    </tr>\n    <tr>\n      <th>603</th>\n      <td>604</td>\n      <td>Tiffany Seely</td>\n      <td>Tiffany</td>\n      <td>Seely</td>\n      <td>Tiffany</td>\n      <td>1973-12-08</td>\n      <td>NaT</td>\n      <td>Female</td>\n      <td>White</td>\n      <td>Jewish</td>\n      <td>Teacher</td>\n      <td>ENTP</td>\n    </tr>\n    <tr>\n      <th>604</th>\n      <td>605</td>\n      <td>Sydney Segal</td>\n      <td>Sydney</td>\n      <td>Segal</td>\n      <td>Sydney</td>\n      <td>1995-07-19</td>\n      <td>NaT</td>\n      <td>Female</td>\n      <td>White</td>\n      <td>Jewish</td>\n      <td>Law Student</td>\n      <td>ESTP</td>\n    </tr>\n    <tr>\n      <th>605</th>\n      <td>606</td>\n      <td>Shantel Smith</td>\n      <td>Shantel</td>\n      <td>Smith</td>\n      <td>Shan</td>\n      <td>1987-03-11</td>\n      <td>NaT</td>\n      <td>Female</td>\n      <td>Black</td>\n      <td>NaN</td>\n      <td>Pastor</td>\n      <td>ENFJ</td>\n    </tr>\n    <tr>\n      <th>606</th>\n      <td>607</td>\n      <td>David Voce</td>\n      <td>David</td>\n      <td>Voce</td>\n      <td>Voce</td>\n      <td>1986-05-01</td>\n      <td>NaT</td>\n      <td>Male</td>\n      <td>NaN</td>\n      <td>NaN</td>\n      <td>Neurosurgeon</td>\n      <td>ENTJ</td>\n    </tr>\n    <tr>\n      <th>607</th>\n      <td>608</td>\n      <td>Liana Wallace</td>\n      <td>Liana</td>\n      <td>Wallace</td>\n      <td>Liana</td>\n      <td>2000-10-25</td>\n      <td>NaT</td>\n      <td>Female</td>\n      <td>Black</td>\n      <td>Jewish</td>\n      <td>College Student</td>\n      <td>ESTJ</td>\n    </tr>\n  </tbody>\n</table>\n<p>608 rows × 12 columns</p>\n</div>"
     },
     "execution_count": 17,
     "metadata": {},
     "output_type": "execute_result"
    }
   ],
   "source": [
    "# Creating the Q13 DF\n",
    "Q13 = castaway_details.copy()\n",
    "name_split = Q13['full_name'].str.split(n=1, expand=True)\n",
    "Q13['first_name'], Q13['last_name'] = name_split[0], name_split[1].fillna('')\n",
    "\n",
    "# Reorder columns\n",
    "columns = ['castaway_id', 'full_name', 'first_name', 'last_name', 'short_name', 'date_of_birth', 'date_of_death',\n",
    "           'gender', 'race', 'ethnicity', 'occupation', 'personality_type']\n",
    "Q13 = Q13[columns]\n",
    "\n",
    "# Display the DF\n",
    "Q13"
   ]
  },
  {
   "cell_type": "markdown",
   "metadata": {},
   "source": [
    "**Q14:** Let's say that we wanted to predict a contestants personality type based on the information in the data files.  Your task is to create a DataFrame that lists the `castaway_id`, `full_name` and `personality_type` for each castaway contestant.  However, since most machine learning algorithms use numeric data, you want to change the personality types to the following numbers:\n",
    "- ISTJ - 1\n",
    "- ISTP - 2\n",
    "- ISFJ - 3\n",
    "- ISFP - 4\n",
    "- INFJ - 5\n",
    "- INFP - 6\n",
    "- INTJ - 7\n",
    "- INTP - 8\n",
    "- ESTP - 9\n",
    "- ESTJ - 10\n",
    "- ESFP - 11\n",
    "- ESFJ - 12\n",
    "- ENFP - 13\n",
    "- ENFJ - 14\n",
    "- ENTP - 15\n",
    "- ENTJ - 16\n",
    "- Missing values - 17\n",
    "\n",
    "Save this new DataFrame as `Q14` and sort based on `castaway_id` in ascending order."
   ]
  },
  {
   "cell_type": "code",
   "execution_count": 18,
   "metadata": {
    "ExecuteTime": {
     "end_time": "2023-12-08T09:43:28.941648Z",
     "start_time": "2023-12-08T09:43:26.722037Z"
    }
   },
   "outputs": [
    {
     "data": {
      "text/plain": "     castaway_id          full_name  personality_type\n0              1  Sonja Christopher                13\n1              2      B.B. Andersen                10\n2              3    Stacey Stillman                16\n3              4        Ramona Gray                 1\n4              5          Dirk Been                 4\n..           ...                ...               ...\n603          604      Tiffany Seely                15\n604          605       Sydney Segal                 9\n605          606      Shantel Smith                14\n606          607         David Voce                16\n607          608      Liana Wallace                10\n\n[608 rows x 3 columns]",
      "text/html": "<div>\n<style scoped>\n    .dataframe tbody tr th:only-of-type {\n        vertical-align: middle;\n    }\n\n    .dataframe tbody tr th {\n        vertical-align: top;\n    }\n\n    .dataframe thead th {\n        text-align: right;\n    }\n</style>\n<table border=\"1\" class=\"dataframe\">\n  <thead>\n    <tr style=\"text-align: right;\">\n      <th></th>\n      <th>castaway_id</th>\n      <th>full_name</th>\n      <th>personality_type</th>\n    </tr>\n  </thead>\n  <tbody>\n    <tr>\n      <th>0</th>\n      <td>1</td>\n      <td>Sonja Christopher</td>\n      <td>13</td>\n    </tr>\n    <tr>\n      <th>1</th>\n      <td>2</td>\n      <td>B.B. Andersen</td>\n      <td>10</td>\n    </tr>\n    <tr>\n      <th>2</th>\n      <td>3</td>\n      <td>Stacey Stillman</td>\n      <td>16</td>\n    </tr>\n    <tr>\n      <th>3</th>\n      <td>4</td>\n      <td>Ramona Gray</td>\n      <td>1</td>\n    </tr>\n    <tr>\n      <th>4</th>\n      <td>5</td>\n      <td>Dirk Been</td>\n      <td>4</td>\n    </tr>\n    <tr>\n      <th>...</th>\n      <td>...</td>\n      <td>...</td>\n      <td>...</td>\n    </tr>\n    <tr>\n      <th>603</th>\n      <td>604</td>\n      <td>Tiffany Seely</td>\n      <td>15</td>\n    </tr>\n    <tr>\n      <th>604</th>\n      <td>605</td>\n      <td>Sydney Segal</td>\n      <td>9</td>\n    </tr>\n    <tr>\n      <th>605</th>\n      <td>606</td>\n      <td>Shantel Smith</td>\n      <td>14</td>\n    </tr>\n    <tr>\n      <th>606</th>\n      <td>607</td>\n      <td>David Voce</td>\n      <td>16</td>\n    </tr>\n    <tr>\n      <th>607</th>\n      <td>608</td>\n      <td>Liana Wallace</td>\n      <td>10</td>\n    </tr>\n  </tbody>\n</table>\n<p>608 rows × 3 columns</p>\n</div>"
     },
     "execution_count": 18,
     "metadata": {},
     "output_type": "execute_result"
    }
   ],
   "source": [
    "# Mapping for personality types to numeric data\n",
    "personality_mapping = {\n",
    "    'ISTJ': 1, 'ISTP': 2, 'ISFJ': 3, 'ISFP': 4,\n",
    "    'INFJ': 5, 'INFP': 6, 'INTJ': 7, 'INTP': 8,\n",
    "    'ESTP': 9, 'ESTJ': 10, 'ESFP': 11, 'ESFJ': 12,\n",
    "    'ENFP': 13, 'ENFJ': 14, 'ENTP': 15, 'ENTJ': 16\n",
    "}\n",
    "\n",
    "# Creating Q14 DataFrame\n",
    "Q14 = castaways[['castaway_id', 'full_name', 'personality_type']].copy()\n",
    "\n",
    "# Replacing personality type with numeric values, missing values with 17\n",
    "Q14['personality_type'] = Q14['personality_type'].replace(personality_mapping).fillna(17).astype(int)\n",
    "\n",
    "# Dropping duplicates for 'castaway_id'\n",
    "Q14 = Q14.drop_duplicates(subset='castaway_id')\n",
    "\n",
    "# Sorting by 'castaway_id'\n",
    "Q14.sort_values(by='castaway_id', inplace=True)\n",
    "\n",
    "# Resetting the index\n",
    "Q14.reset_index(drop=True, inplace=True)\n",
    "\n",
    "Q14"
   ]
  },
  {
   "cell_type": "markdown",
   "metadata": {},
   "source": [
    "**Q15:** After thinking about this some more, you realize that you don't want to code the personality traits as you did in problem 14 since the data is not ordinal.  Some machine learning algorithms will assume that numbers close to each other are more alike than those that are away from each other and that is not the case with these personality types.\n",
    "\n",
    "Let's create a new DataFrame called `Q15` that creates dummy columns (using `get_dummies`) for the original personality type column.  Add a prefix called \"type\" and drop the first column to help prevent multicollinearity.  The columns should be `castaway_id`, `full_name` followed by the various dummy columns for the personality types.  Don't worry about any missing values in this step.\n",
    "\n",
    "Remember: Don't change any of the original DataFrames or CodeGrade will not work correctly for this assignment.  Make sure you use `copy()` if needed."
   ]
  },
  {
   "cell_type": "code",
   "execution_count": 19,
   "metadata": {
    "ExecuteTime": {
     "end_time": "2023-12-08T09:43:28.942082Z",
     "start_time": "2023-12-08T09:43:26.730864Z"
    }
   },
   "outputs": [
    {
     "data": {
      "text/plain": "     castaway_id          full_name  type_ENFP  type_ENTJ  type_ENTP  \\\n0              1  Sonja Christopher          1          0          0   \n1              2      B.B. Andersen          0          0          0   \n2              3    Stacey Stillman          0          1          0   \n3              4        Ramona Gray          0          0          0   \n4              5          Dirk Been          0          0          0   \n..           ...                ...        ...        ...        ...   \n603          604      Tiffany Seely          0          0          1   \n604          605       Sydney Segal          0          0          0   \n605          606      Shantel Smith          0          0          0   \n606          607         David Voce          0          1          0   \n607          608      Liana Wallace          0          0          0   \n\n     type_ESFJ  type_ESFP  type_ESTJ  type_ESTP  type_INFJ  type_INFP  \\\n0            0          0          0          0          0          0   \n1            0          0          1          0          0          0   \n2            0          0          0          0          0          0   \n3            0          0          0          0          0          0   \n4            0          0          0          0          0          0   \n..         ...        ...        ...        ...        ...        ...   \n603          0          0          0          0          0          0   \n604          0          0          0          1          0          0   \n605          0          0          0          0          0          0   \n606          0          0          0          0          0          0   \n607          0          0          1          0          0          0   \n\n     type_INTJ  type_INTP  type_ISFJ  type_ISFP  type_ISTJ  type_ISTP  \n0            0          0          0          0          0          0  \n1            0          0          0          0          0          0  \n2            0          0          0          0          0          0  \n3            0          0          0          0          1          0  \n4            0          0          0          1          0          0  \n..         ...        ...        ...        ...        ...        ...  \n603          0          0          0          0          0          0  \n604          0          0          0          0          0          0  \n605          0          0          0          0          0          0  \n606          0          0          0          0          0          0  \n607          0          0          0          0          0          0  \n\n[608 rows x 17 columns]",
      "text/html": "<div>\n<style scoped>\n    .dataframe tbody tr th:only-of-type {\n        vertical-align: middle;\n    }\n\n    .dataframe tbody tr th {\n        vertical-align: top;\n    }\n\n    .dataframe thead th {\n        text-align: right;\n    }\n</style>\n<table border=\"1\" class=\"dataframe\">\n  <thead>\n    <tr style=\"text-align: right;\">\n      <th></th>\n      <th>castaway_id</th>\n      <th>full_name</th>\n      <th>type_ENFP</th>\n      <th>type_ENTJ</th>\n      <th>type_ENTP</th>\n      <th>type_ESFJ</th>\n      <th>type_ESFP</th>\n      <th>type_ESTJ</th>\n      <th>type_ESTP</th>\n      <th>type_INFJ</th>\n      <th>type_INFP</th>\n      <th>type_INTJ</th>\n      <th>type_INTP</th>\n      <th>type_ISFJ</th>\n      <th>type_ISFP</th>\n      <th>type_ISTJ</th>\n      <th>type_ISTP</th>\n    </tr>\n  </thead>\n  <tbody>\n    <tr>\n      <th>0</th>\n      <td>1</td>\n      <td>Sonja Christopher</td>\n      <td>1</td>\n      <td>0</td>\n      <td>0</td>\n      <td>0</td>\n      <td>0</td>\n      <td>0</td>\n      <td>0</td>\n      <td>0</td>\n      <td>0</td>\n      <td>0</td>\n      <td>0</td>\n      <td>0</td>\n      <td>0</td>\n      <td>0</td>\n      <td>0</td>\n    </tr>\n    <tr>\n      <th>1</th>\n      <td>2</td>\n      <td>B.B. Andersen</td>\n      <td>0</td>\n      <td>0</td>\n      <td>0</td>\n      <td>0</td>\n      <td>0</td>\n      <td>1</td>\n      <td>0</td>\n      <td>0</td>\n      <td>0</td>\n      <td>0</td>\n      <td>0</td>\n      <td>0</td>\n      <td>0</td>\n      <td>0</td>\n      <td>0</td>\n    </tr>\n    <tr>\n      <th>2</th>\n      <td>3</td>\n      <td>Stacey Stillman</td>\n      <td>0</td>\n      <td>1</td>\n      <td>0</td>\n      <td>0</td>\n      <td>0</td>\n      <td>0</td>\n      <td>0</td>\n      <td>0</td>\n      <td>0</td>\n      <td>0</td>\n      <td>0</td>\n      <td>0</td>\n      <td>0</td>\n      <td>0</td>\n      <td>0</td>\n    </tr>\n    <tr>\n      <th>3</th>\n      <td>4</td>\n      <td>Ramona Gray</td>\n      <td>0</td>\n      <td>0</td>\n      <td>0</td>\n      <td>0</td>\n      <td>0</td>\n      <td>0</td>\n      <td>0</td>\n      <td>0</td>\n      <td>0</td>\n      <td>0</td>\n      <td>0</td>\n      <td>0</td>\n      <td>0</td>\n      <td>1</td>\n      <td>0</td>\n    </tr>\n    <tr>\n      <th>4</th>\n      <td>5</td>\n      <td>Dirk Been</td>\n      <td>0</td>\n      <td>0</td>\n      <td>0</td>\n      <td>0</td>\n      <td>0</td>\n      <td>0</td>\n      <td>0</td>\n      <td>0</td>\n      <td>0</td>\n      <td>0</td>\n      <td>0</td>\n      <td>0</td>\n      <td>1</td>\n      <td>0</td>\n      <td>0</td>\n    </tr>\n    <tr>\n      <th>...</th>\n      <td>...</td>\n      <td>...</td>\n      <td>...</td>\n      <td>...</td>\n      <td>...</td>\n      <td>...</td>\n      <td>...</td>\n      <td>...</td>\n      <td>...</td>\n      <td>...</td>\n      <td>...</td>\n      <td>...</td>\n      <td>...</td>\n      <td>...</td>\n      <td>...</td>\n      <td>...</td>\n      <td>...</td>\n    </tr>\n    <tr>\n      <th>603</th>\n      <td>604</td>\n      <td>Tiffany Seely</td>\n      <td>0</td>\n      <td>0</td>\n      <td>1</td>\n      <td>0</td>\n      <td>0</td>\n      <td>0</td>\n      <td>0</td>\n      <td>0</td>\n      <td>0</td>\n      <td>0</td>\n      <td>0</td>\n      <td>0</td>\n      <td>0</td>\n      <td>0</td>\n      <td>0</td>\n    </tr>\n    <tr>\n      <th>604</th>\n      <td>605</td>\n      <td>Sydney Segal</td>\n      <td>0</td>\n      <td>0</td>\n      <td>0</td>\n      <td>0</td>\n      <td>0</td>\n      <td>0</td>\n      <td>1</td>\n      <td>0</td>\n      <td>0</td>\n      <td>0</td>\n      <td>0</td>\n      <td>0</td>\n      <td>0</td>\n      <td>0</td>\n      <td>0</td>\n    </tr>\n    <tr>\n      <th>605</th>\n      <td>606</td>\n      <td>Shantel Smith</td>\n      <td>0</td>\n      <td>0</td>\n      <td>0</td>\n      <td>0</td>\n      <td>0</td>\n      <td>0</td>\n      <td>0</td>\n      <td>0</td>\n      <td>0</td>\n      <td>0</td>\n      <td>0</td>\n      <td>0</td>\n      <td>0</td>\n      <td>0</td>\n      <td>0</td>\n    </tr>\n    <tr>\n      <th>606</th>\n      <td>607</td>\n      <td>David Voce</td>\n      <td>0</td>\n      <td>1</td>\n      <td>0</td>\n      <td>0</td>\n      <td>0</td>\n      <td>0</td>\n      <td>0</td>\n      <td>0</td>\n      <td>0</td>\n      <td>0</td>\n      <td>0</td>\n      <td>0</td>\n      <td>0</td>\n      <td>0</td>\n      <td>0</td>\n    </tr>\n    <tr>\n      <th>607</th>\n      <td>608</td>\n      <td>Liana Wallace</td>\n      <td>0</td>\n      <td>0</td>\n      <td>0</td>\n      <td>0</td>\n      <td>0</td>\n      <td>1</td>\n      <td>0</td>\n      <td>0</td>\n      <td>0</td>\n      <td>0</td>\n      <td>0</td>\n      <td>0</td>\n      <td>0</td>\n      <td>0</td>\n      <td>0</td>\n    </tr>\n  </tbody>\n</table>\n<p>608 rows × 17 columns</p>\n</div>"
     },
     "execution_count": 19,
     "metadata": {},
     "output_type": "execute_result"
    }
   ],
   "source": [
    "# Create a copy of relevant columns from castaway_details\n",
    "Q15 = castaway_details[['castaway_id', 'full_name', 'personality_type']].copy()\n",
    "\n",
    "# Dummy columns for personality types and convert to int\n",
    "personality_dummies = pd.get_dummies(Q15['personality_type'], prefix='type', drop_first=True).astype(int)\n",
    "\n",
    "# Concatenate dummy columns with Q15 DataFrame\n",
    "Q15 = pd.concat([Q15[['castaway_id', 'full_name']], personality_dummies], axis=1)\n",
    "\n",
    "# Display the DF\n",
    "Q15"
   ]
  },
  {
   "cell_type": "markdown",
   "metadata": {},
   "source": [
    "**Q16:** After running your data above through your machine learning model, you determine that a better prediction might come from breaking the personality type into its four parts (one part for each character in the type).  Your task is now to create a DataFrame called `Q16` that splits the personality type into the various parts and creates a new column for each part (these columns should be called `interaction` that will represent the first letter in the personality type, `information` for the second letter, `decision` for the third, and `organization` for the fourth).\n",
    "\n",
    "Again, since most machine learning algorithms work with numeric data, perform the following on the four new columns:\n",
    "- `interaction` --> code all `I`'s as `0` and `E`'s as `1`\n",
    "- `information` --> code all `S`'s as `0` and `N`'s as `1`\n",
    "- `decision` --> code all `T`'s as `0` and `F`'s as `1`\n",
    "- `organization` --> code as `J`'s with `0` and `P`'s as `1`\n",
    "- Any missing values should be coded with a `2`\n",
    "- Double check that all of the above columns are an integer type.  Some students have a problem with CodeGrade because one of their columns ends up being a string instead of an int.\n",
    "\n",
    "For example, if a contestant's personality type was `ENTJ`, your columns for that row would be:\n",
    "- `1` for `interaction` because of the `E`\n",
    "- `1` for `information` because of the `N`\n",
    "- `0` for `decision` because of the `T` \n",
    "- `0` for `organization` because of the `J`\n",
    "\n",
    "The new DataFrame should be sorted in `castaway_id` order and have the following columns in this order: `castaway_id`, `full_name`, `personality_type`, `interaction`, `information`, `decision`, `organization`.\n",
    "\n",
    "Remember: Don't change any of the original DataFrames or CodeGrade will not work correctly for this assignment.  Make sure you use `copy()` if needed."
   ]
  },
  {
   "cell_type": "code",
   "execution_count": 20,
   "metadata": {
    "ExecuteTime": {
     "end_time": "2023-12-08T09:43:28.942395Z",
     "start_time": "2023-12-08T09:43:26.737807Z"
    }
   },
   "outputs": [
    {
     "data": {
      "text/plain": "     castaway_id          full_name personality_type  interaction  \\\n0              1  Sonja Christopher             ENFP            1   \n1              2      B.B. Andersen             ESTJ            1   \n2              3    Stacey Stillman             ENTJ            1   \n3              4        Ramona Gray             ISTJ            0   \n4              5          Dirk Been             ISFP            0   \n..           ...                ...              ...          ...   \n603          604      Tiffany Seely             ENTP            1   \n604          605       Sydney Segal             ESTP            1   \n605          606      Shantel Smith             ENFJ            1   \n606          607         David Voce             ENTJ            1   \n607          608      Liana Wallace             ESTJ            1   \n\n     information  decision  organization  \n0              1         1             1  \n1              0         0             0  \n2              1         0             0  \n3              0         0             0  \n4              0         1             1  \n..           ...       ...           ...  \n603            1         0             1  \n604            0         0             1  \n605            1         1             0  \n606            1         0             0  \n607            0         0             0  \n\n[608 rows x 7 columns]",
      "text/html": "<div>\n<style scoped>\n    .dataframe tbody tr th:only-of-type {\n        vertical-align: middle;\n    }\n\n    .dataframe tbody tr th {\n        vertical-align: top;\n    }\n\n    .dataframe thead th {\n        text-align: right;\n    }\n</style>\n<table border=\"1\" class=\"dataframe\">\n  <thead>\n    <tr style=\"text-align: right;\">\n      <th></th>\n      <th>castaway_id</th>\n      <th>full_name</th>\n      <th>personality_type</th>\n      <th>interaction</th>\n      <th>information</th>\n      <th>decision</th>\n      <th>organization</th>\n    </tr>\n  </thead>\n  <tbody>\n    <tr>\n      <th>0</th>\n      <td>1</td>\n      <td>Sonja Christopher</td>\n      <td>ENFP</td>\n      <td>1</td>\n      <td>1</td>\n      <td>1</td>\n      <td>1</td>\n    </tr>\n    <tr>\n      <th>1</th>\n      <td>2</td>\n      <td>B.B. Andersen</td>\n      <td>ESTJ</td>\n      <td>1</td>\n      <td>0</td>\n      <td>0</td>\n      <td>0</td>\n    </tr>\n    <tr>\n      <th>2</th>\n      <td>3</td>\n      <td>Stacey Stillman</td>\n      <td>ENTJ</td>\n      <td>1</td>\n      <td>1</td>\n      <td>0</td>\n      <td>0</td>\n    </tr>\n    <tr>\n      <th>3</th>\n      <td>4</td>\n      <td>Ramona Gray</td>\n      <td>ISTJ</td>\n      <td>0</td>\n      <td>0</td>\n      <td>0</td>\n      <td>0</td>\n    </tr>\n    <tr>\n      <th>4</th>\n      <td>5</td>\n      <td>Dirk Been</td>\n      <td>ISFP</td>\n      <td>0</td>\n      <td>0</td>\n      <td>1</td>\n      <td>1</td>\n    </tr>\n    <tr>\n      <th>...</th>\n      <td>...</td>\n      <td>...</td>\n      <td>...</td>\n      <td>...</td>\n      <td>...</td>\n      <td>...</td>\n      <td>...</td>\n    </tr>\n    <tr>\n      <th>603</th>\n      <td>604</td>\n      <td>Tiffany Seely</td>\n      <td>ENTP</td>\n      <td>1</td>\n      <td>1</td>\n      <td>0</td>\n      <td>1</td>\n    </tr>\n    <tr>\n      <th>604</th>\n      <td>605</td>\n      <td>Sydney Segal</td>\n      <td>ESTP</td>\n      <td>1</td>\n      <td>0</td>\n      <td>0</td>\n      <td>1</td>\n    </tr>\n    <tr>\n      <th>605</th>\n      <td>606</td>\n      <td>Shantel Smith</td>\n      <td>ENFJ</td>\n      <td>1</td>\n      <td>1</td>\n      <td>1</td>\n      <td>0</td>\n    </tr>\n    <tr>\n      <th>606</th>\n      <td>607</td>\n      <td>David Voce</td>\n      <td>ENTJ</td>\n      <td>1</td>\n      <td>1</td>\n      <td>0</td>\n      <td>0</td>\n    </tr>\n    <tr>\n      <th>607</th>\n      <td>608</td>\n      <td>Liana Wallace</td>\n      <td>ESTJ</td>\n      <td>1</td>\n      <td>0</td>\n      <td>0</td>\n      <td>0</td>\n    </tr>\n  </tbody>\n</table>\n<p>608 rows × 7 columns</p>\n</div>"
     },
     "execution_count": 20,
     "metadata": {},
     "output_type": "execute_result"
    }
   ],
   "source": [
    "# Create DataFrame from relevant columns\n",
    "Q16 = castaway_details[['castaway_id', 'full_name', 'personality_type']].copy()\n",
    "\n",
    "# Define mapping for personality traits\n",
    "mapping = {'I': 0, 'E': 1, 'S': 0, 'N': 1, 'T': 0, 'F': 1, 'J': 0, 'P': 1}\n",
    "\n",
    "# Split personality type into components and map to int\n",
    "personality_split = Q16['personality_type'].apply(lambda x: [mapping.get(char, 2) for char in str(x)] if pd.notna(x) and len(x) == 4 else [2, 2, 2, 2])\n",
    "Q16[['interaction', 'information', 'decision', 'organization']] = pd.DataFrame(personality_split.tolist(), index=Q16.index).astype(int)\n",
    "\n",
    "# Sort by castaway_id\n",
    "Q16 = Q16.sort_values(by='castaway_id').reset_index(drop=True)\n",
    "\n",
    "# Display the DF\n",
    "Q16"
   ]
  },
  {
   "cell_type": "markdown",
   "metadata": {},
   "source": [
    "**Q17:** Using data from `castaways`, create a DataFrame called `Q17` that bins the contestant ages (their age when they were on the season, not their current age) into the following age categories:\n",
    "- 18-24\n",
    "- 25-34\n",
    "- 35-44\n",
    "- 45-54\n",
    "- 55-64\n",
    "- 65+\n",
    "\n",
    "The final DataFrame should have the following columns in this order: `season`, `castaway_id`, `full_name`, `age`, and `age_category`.  The DataFrame should be sorted by age and then castaway_id.  The index should be 0 through n-1.  You should have the same amount of rows as in the `castaways` DataFrame.\n",
    "\n",
    "Remember: Don't change any of the original DataFrames or CodeGrade will not work correctly for this assignment.  Make sure you use `copy()` if needed."
   ]
  },
  {
   "cell_type": "code",
   "execution_count": 21,
   "metadata": {
    "ExecuteTime": {
     "end_time": "2023-12-08T09:43:28.942668Z",
     "start_time": "2023-12-08T09:43:26.743198Z"
    }
   },
   "outputs": [
    {
     "data": {
      "text/plain": "     season  castaway_id          full_name  age age_category\n0        33          491          Will Wahl   18        18-24\n1        36          528     Michael Yerger   18        18-24\n2        18          270       Spencer Duhm   19        18-24\n3        22          336  Natalie Tenerelli   19        18-24\n4        23          350      Brandon Hantz   19        18-24\n..      ...          ...                ...  ...          ...\n757      24          366         Greg Smith   64        55-64\n758      21          304      Jimmy Johnson   67          65+\n759      32          474   Joseph Del Campo   71          65+\n760       1           14        Rudy Boesch   72          65+\n761       8           14        Rudy Boesch   75          65+\n\n[762 rows x 5 columns]",
      "text/html": "<div>\n<style scoped>\n    .dataframe tbody tr th:only-of-type {\n        vertical-align: middle;\n    }\n\n    .dataframe tbody tr th {\n        vertical-align: top;\n    }\n\n    .dataframe thead th {\n        text-align: right;\n    }\n</style>\n<table border=\"1\" class=\"dataframe\">\n  <thead>\n    <tr style=\"text-align: right;\">\n      <th></th>\n      <th>season</th>\n      <th>castaway_id</th>\n      <th>full_name</th>\n      <th>age</th>\n      <th>age_category</th>\n    </tr>\n  </thead>\n  <tbody>\n    <tr>\n      <th>0</th>\n      <td>33</td>\n      <td>491</td>\n      <td>Will Wahl</td>\n      <td>18</td>\n      <td>18-24</td>\n    </tr>\n    <tr>\n      <th>1</th>\n      <td>36</td>\n      <td>528</td>\n      <td>Michael Yerger</td>\n      <td>18</td>\n      <td>18-24</td>\n    </tr>\n    <tr>\n      <th>2</th>\n      <td>18</td>\n      <td>270</td>\n      <td>Spencer Duhm</td>\n      <td>19</td>\n      <td>18-24</td>\n    </tr>\n    <tr>\n      <th>3</th>\n      <td>22</td>\n      <td>336</td>\n      <td>Natalie Tenerelli</td>\n      <td>19</td>\n      <td>18-24</td>\n    </tr>\n    <tr>\n      <th>4</th>\n      <td>23</td>\n      <td>350</td>\n      <td>Brandon Hantz</td>\n      <td>19</td>\n      <td>18-24</td>\n    </tr>\n    <tr>\n      <th>...</th>\n      <td>...</td>\n      <td>...</td>\n      <td>...</td>\n      <td>...</td>\n      <td>...</td>\n    </tr>\n    <tr>\n      <th>757</th>\n      <td>24</td>\n      <td>366</td>\n      <td>Greg Smith</td>\n      <td>64</td>\n      <td>55-64</td>\n    </tr>\n    <tr>\n      <th>758</th>\n      <td>21</td>\n      <td>304</td>\n      <td>Jimmy Johnson</td>\n      <td>67</td>\n      <td>65+</td>\n    </tr>\n    <tr>\n      <th>759</th>\n      <td>32</td>\n      <td>474</td>\n      <td>Joseph Del Campo</td>\n      <td>71</td>\n      <td>65+</td>\n    </tr>\n    <tr>\n      <th>760</th>\n      <td>1</td>\n      <td>14</td>\n      <td>Rudy Boesch</td>\n      <td>72</td>\n      <td>65+</td>\n    </tr>\n    <tr>\n      <th>761</th>\n      <td>8</td>\n      <td>14</td>\n      <td>Rudy Boesch</td>\n      <td>75</td>\n      <td>65+</td>\n    </tr>\n  </tbody>\n</table>\n<p>762 rows × 5 columns</p>\n</div>"
     },
     "execution_count": 21,
     "metadata": {},
     "output_type": "execute_result"
    }
   ],
   "source": [
    "# Creating a new DataFrame from 'castaways'\n",
    "Q17 = castaways[['season', 'castaway_id', 'full_name', 'age']].copy()\n",
    "\n",
    "# Correcting the age category binning to ensure that ages are categorized correctly\n",
    "age_bins = [18, 25, 35, 45, 55, 65, np.inf]\n",
    "age_labels_corrected = ['18-24', '25-34', '35-44', '45-54', '55-64', '65+']\n",
    "\n",
    "# Binning the ages with the corrected bins and labels\n",
    "Q17['age_category'] = pd.cut(Q17['age'], bins=age_bins, labels=age_labels_corrected, right=False)\n",
    "\n",
    "# Sorting the DataFrame by age and then castaway_id\n",
    "Q17 = Q17.sort_values(by=['age', 'castaway_id']).reset_index(drop=True)\n",
    "\n",
    "Q17"
   ]
  },
  {
   "cell_type": "markdown",
   "metadata": {},
   "source": [
    "**Q18:** Based on the age categories you created above, what are the normalized percentages for the various age categories using `value_counts()`.  Sort the value counts by index.  Save this as `Q18`."
   ]
  },
  {
   "cell_type": "code",
   "execution_count": 22,
   "metadata": {
    "ExecuteTime": {
     "end_time": "2023-12-08T09:43:28.942871Z",
     "start_time": "2023-12-08T09:43:26.771606Z"
    }
   },
   "outputs": [
    {
     "data": {
      "text/plain": "age_category\n18-24    0.190289\n25-34    0.437008\n35-44    0.211286\n45-54    0.124672\n55-64    0.031496\n65+      0.005249\nName: proportion, dtype: float64"
     },
     "execution_count": 22,
     "metadata": {},
     "output_type": "execute_result"
    }
   ],
   "source": [
    "# Calculating normalized percentages for the various age categories\n",
    "Q18 = Q17['age_category'].value_counts(normalize=True).sort_index() \n",
    "\n",
    "Q18"
   ]
  },
  {
   "cell_type": "markdown",
   "metadata": {},
   "source": [
    "**Q19:** Which contestant(s) played a perfect game?  A perfect game is considered when the contestant:\n",
    "- didn't receive any tribal council votes all season (this is different than Q10 since some players played multiple times.  They got voted out in one season so they would not show in Q10 but they came back for another season and didn't receive any tribal council votes)\n",
    "- won the game\n",
    "- got unanimous jury votes (see question 12)\n",
    "\n",
    "Save this DataFrame as `Q19` with the following columns: `season_name`, `season`, `castaway_id`, `full_name`, `tribal_council_votes`, `jury_votes`.  The DataFrame should be sorted by season and the index should be 0 to n-1."
   ]
  },
  {
   "cell_type": "code",
   "execution_count": 23,
   "metadata": {
    "ExecuteTime": {
     "end_time": "2023-12-08T09:43:28.943355Z",
     "start_time": "2023-12-08T09:43:26.776021Z"
    }
   },
   "outputs": [
    {
     "data": {
      "text/plain": "           season_name  season  castaway_id         full_name  \\\n0  Survivor: Tocantins      18          281  James Thomas Jr.   \n1   Survivor: Caramoan      26          348      John Cochran   \n\n   tribal_council_votes  jury_votes  \n0                     0           7  \n1                     0           8  ",
      "text/html": "<div>\n<style scoped>\n    .dataframe tbody tr th:only-of-type {\n        vertical-align: middle;\n    }\n\n    .dataframe tbody tr th {\n        vertical-align: top;\n    }\n\n    .dataframe thead th {\n        text-align: right;\n    }\n</style>\n<table border=\"1\" class=\"dataframe\">\n  <thead>\n    <tr style=\"text-align: right;\">\n      <th></th>\n      <th>season_name</th>\n      <th>season</th>\n      <th>castaway_id</th>\n      <th>full_name</th>\n      <th>tribal_council_votes</th>\n      <th>jury_votes</th>\n    </tr>\n  </thead>\n  <tbody>\n    <tr>\n      <th>0</th>\n      <td>Survivor: Tocantins</td>\n      <td>18</td>\n      <td>281</td>\n      <td>James Thomas Jr.</td>\n      <td>0</td>\n      <td>7</td>\n    </tr>\n    <tr>\n      <th>1</th>\n      <td>Survivor: Caramoan</td>\n      <td>26</td>\n      <td>348</td>\n      <td>John Cochran</td>\n      <td>0</td>\n      <td>8</td>\n    </tr>\n  </tbody>\n</table>\n</div>"
     },
     "execution_count": 23,
     "metadata": {},
     "output_type": "execute_result"
    }
   ],
   "source": [
    "# 1. Participants who did not receive any votes at tribal councils throughout the entire season\n",
    "no_votes_all_seasons = castaways[castaways['total_votes_received'] == 0]\n",
    "\n",
    "# 2. Winners of the game with unanimous jury votes from Q12\n",
    "winners_with_unanimous_jury_votes = Q12\n",
    "\n",
    "# Merging no_votes_all_seasons with winners_with_unanimous_jury_votes based on 'winner_id' (which is the same as 'castaway_id')\n",
    "perfect_game_candidates = pd.merge(no_votes_all_seasons, winners_with_unanimous_jury_votes, left_on='castaway_id', right_on='winner_id')\n",
    "\n",
    "# Counting jury votes per season and finalist\n",
    "jury_vote_counts = jury_votes.groupby(['season', 'finalist_id']).size().reset_index(name='jury_vote_count')\n",
    "\n",
    "# Merging the jury vote count with perfect_game_candidates\n",
    "perfect_game_candidates = pd.merge(perfect_game_candidates, jury_vote_counts, left_on=['season_x', 'castaway_id'], right_on=['season', 'finalist_id'])\n",
    "\n",
    "# Selecting and renaming the necessary columns\n",
    "Q19 = perfect_game_candidates[['season_name_x', 'season_x', 'castaway_id', 'full_name_x', 'total_votes_received', 'jury_vote_count']]\n",
    "\n",
    "# Renaming columns for clarity\n",
    "Q19 = Q19.rename(columns={\n",
    "    'season_name_x': 'season_name', \n",
    "    'season_x': 'season', \n",
    "    'full_name_x': 'full_name', \n",
    "    'total_votes_received': 'tribal_council_votes', \n",
    "    'jury_vote_count': 'jury_votes'\n",
    "})\n",
    "\n",
    "# Sorting by season and resetting indices\n",
    "Q19 = Q19.sort_values(by='season').reset_index(drop=True)\n",
    "\n",
    "# Displaying the Q19 DataFrame\n",
    "Q19"
   ]
  }
 ],
 "metadata": {
  "kernelspec": {
   "display_name": "Python 3",
   "language": "python",
   "name": "python3"
  },
  "language_info": {
   "codemirror_mode": {
    "name": "ipython",
    "version": 3
   },
   "file_extension": ".py",
   "mimetype": "text/x-python",
   "name": "python",
   "nbconvert_exporter": "python",
   "pygments_lexer": "ipython3",
   "version": "3.8.5"
  }
 },
 "nbformat": 4,
 "nbformat_minor": 4
}
